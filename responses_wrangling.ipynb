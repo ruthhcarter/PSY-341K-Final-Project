{
 "cells": [
  {
   "cell_type": "markdown",
   "id": "7726b7b2-ac1d-4117-a37b-b2ce4eac090c",
   "metadata": {},
   "source": [
    "### Preliminaries: "
   ]
  },
  {
   "cell_type": "code",
   "execution_count": 23,
   "id": "7da96de3-a6bc-494f-8d6f-2d6a8b916ad5",
   "metadata": {
    "tags": []
   },
   "outputs": [],
   "source": [
    "import numpy as np\n",
    "import pandas as pd \n",
    "import seaborn as sns"
   ]
  },
  {
   "cell_type": "code",
   "execution_count": 83,
   "id": "36c5ca93-2269-4f20-89d2-48fa18af5834",
   "metadata": {
    "tags": []
   },
   "outputs": [
    {
     "data": {
      "text/html": [
       "<div>\n",
       "<style scoped>\n",
       "    .dataframe tbody tr th:only-of-type {\n",
       "        vertical-align: middle;\n",
       "    }\n",
       "\n",
       "    .dataframe tbody tr th {\n",
       "        vertical-align: top;\n",
       "    }\n",
       "\n",
       "    .dataframe thead th {\n",
       "        text-align: right;\n",
       "    }\n",
       "</style>\n",
       "<table border=\"1\" class=\"dataframe\">\n",
       "  <thead>\n",
       "    <tr style=\"text-align: right;\">\n",
       "      <th></th>\n",
       "      <th>Sex</th>\n",
       "      <th>Age</th>\n",
       "      <th>Sexuality</th>\n",
       "      <th>Race</th>\n",
       "      <th>College</th>\n",
       "      <th>Major</th>\n",
       "      <th>Year</th>\n",
       "      <th>General Prompt</th>\n",
       "      <th>Anger Prompt</th>\n",
       "      <th>word count (prompt 1)</th>\n",
       "      <th>word count (prompt 2)</th>\n",
       "    </tr>\n",
       "  </thead>\n",
       "  <tbody>\n",
       "    <tr>\n",
       "      <th>0</th>\n",
       "      <td>Male</td>\n",
       "      <td>19</td>\n",
       "      <td>Queer/ LGBTQIA+</td>\n",
       "      <td>White, Hispanic/ Latino</td>\n",
       "      <td>Engineering</td>\n",
       "      <td>Aerospace Engineering</td>\n",
       "      <td>Sophomore</td>\n",
       "      <td>My week was good, it’s been very hectic I have...</td>\n",
       "      <td>About 2 weeks ago this girl that I had a past ...</td>\n",
       "      <td>191</td>\n",
       "      <td>186</td>\n",
       "    </tr>\n",
       "    <tr>\n",
       "      <th>1</th>\n",
       "      <td>Female</td>\n",
       "      <td>22</td>\n",
       "      <td>Queer/ LGBTQIA+</td>\n",
       "      <td>White</td>\n",
       "      <td>Natural Sciences</td>\n",
       "      <td>Applied science</td>\n",
       "      <td>Sophomore</td>\n",
       "      <td>This week was pretty casual, but I did have a ...</td>\n",
       "      <td>I would say the last time I felt anger and was...</td>\n",
       "      <td>140</td>\n",
       "      <td>150</td>\n",
       "    </tr>\n",
       "    <tr>\n",
       "      <th>2</th>\n",
       "      <td>Male</td>\n",
       "      <td>22</td>\n",
       "      <td>Straight</td>\n",
       "      <td>White, Hispanic/ Latino</td>\n",
       "      <td>Engineering</td>\n",
       "      <td>Architectural engineering</td>\n",
       "      <td>Senior</td>\n",
       "      <td>This past week or two has been very busy juggl...</td>\n",
       "      <td>I felt anger when I failed an exam. Fill space...</td>\n",
       "      <td>118</td>\n",
       "      <td>120</td>\n",
       "    </tr>\n",
       "    <tr>\n",
       "      <th>3</th>\n",
       "      <td>Female</td>\n",
       "      <td>21</td>\n",
       "      <td>Queer/ LGBTQIA+</td>\n",
       "      <td>Hispanic/ Latino</td>\n",
       "      <td>Fine Arts</td>\n",
       "      <td>Art History</td>\n",
       "      <td>Junior</td>\n",
       "      <td>So far, my week hasn’t been insanely significa...</td>\n",
       "      <td>One time I recently experienced anger may have...</td>\n",
       "      <td>167</td>\n",
       "      <td>150</td>\n",
       "    </tr>\n",
       "    <tr>\n",
       "      <th>4</th>\n",
       "      <td>Female</td>\n",
       "      <td>21</td>\n",
       "      <td>Queer/ LGBTQIA+</td>\n",
       "      <td>Asian (including South Asian and Southeast Asian)</td>\n",
       "      <td>Fine Arts</td>\n",
       "      <td>Arts and Entertainment Technologies</td>\n",
       "      <td>Senior</td>\n",
       "      <td>My week was very stressful. Last week I had a ...</td>\n",
       "      <td>I felt angry recently. I feel frustrated at my...</td>\n",
       "      <td>204</td>\n",
       "      <td>195</td>\n",
       "    </tr>\n",
       "  </tbody>\n",
       "</table>\n",
       "</div>"
      ],
      "text/plain": [
       "      Sex  Age       Sexuality   \\\n",
       "0    Male   19  Queer/ LGBTQIA+   \n",
       "1  Female   22  Queer/ LGBTQIA+   \n",
       "2    Male   22         Straight   \n",
       "3  Female   21  Queer/ LGBTQIA+   \n",
       "4  Female   21  Queer/ LGBTQIA+   \n",
       "\n",
       "                                                Race           College  \\\n",
       "0                            White, Hispanic/ Latino       Engineering   \n",
       "1                                              White  Natural Sciences   \n",
       "2                            White, Hispanic/ Latino       Engineering   \n",
       "3                                   Hispanic/ Latino         Fine Arts   \n",
       "4  Asian (including South Asian and Southeast Asian)         Fine Arts   \n",
       "\n",
       "                                 Major       Year  \\\n",
       "0               Aerospace Engineering   Sophomore   \n",
       "1                     Applied science   Sophomore   \n",
       "2            Architectural engineering     Senior   \n",
       "3                          Art History     Junior   \n",
       "4  Arts and Entertainment Technologies     Senior   \n",
       "\n",
       "                                      General Prompt  \\\n",
       "0  My week was good, it’s been very hectic I have...   \n",
       "1  This week was pretty casual, but I did have a ...   \n",
       "2  This past week or two has been very busy juggl...   \n",
       "3  So far, my week hasn’t been insanely significa...   \n",
       "4  My week was very stressful. Last week I had a ...   \n",
       "\n",
       "                                        Anger Prompt  word count (prompt 1)  \\\n",
       "0  About 2 weeks ago this girl that I had a past ...                    191   \n",
       "1  I would say the last time I felt anger and was...                    140   \n",
       "2  I felt anger when I failed an exam. Fill space...                    118   \n",
       "3  One time I recently experienced anger may have...                    167   \n",
       "4  I felt angry recently. I feel frustrated at my...                    204   \n",
       "\n",
       "   word count (prompt 2)  \n",
       "0                    186  \n",
       "1                    150  \n",
       "2                    120  \n",
       "3                    150  \n",
       "4                    195  "
      ]
     },
     "execution_count": 83,
     "metadata": {},
     "output_type": "execute_result"
    }
   ],
   "source": [
    "df.head(5)"
   ]
  },
  {
   "cell_type": "code",
   "execution_count": 80,
   "id": "051242b8-5090-4be3-ae97-27747b949747",
   "metadata": {
    "tags": []
   },
   "outputs": [],
   "source": [
    "#GUIDE: \n",
    "    #og_df = original df with all data \n",
    "    #df = edited df \n",
    "    #proj_df = subset of data with only gender x text submissions"
   ]
  },
  {
   "cell_type": "code",
   "execution_count": 76,
   "id": "569dd399-2495-4191-901a-18ec58fdd52e",
   "metadata": {
    "tags": []
   },
   "outputs": [],
   "source": [
    "og_df = pd.read_csv(\"proj_responses.csv\")  #load in dataframe "
   ]
  },
  {
   "cell_type": "code",
   "execution_count": 77,
   "id": "7ee75ae6-a031-4cb2-bc54-62ccbbafee74",
   "metadata": {
    "tags": []
   },
   "outputs": [],
   "source": [
    "df = og_df.copy()   #make copy of df to manipulate "
   ]
  },
  {
   "cell_type": "markdown",
   "id": "e6032679-0af2-4d13-b2e8-02698b952132",
   "metadata": {},
   "source": [
    "### Wrangling: "
   ]
  },
  {
   "cell_type": "code",
   "execution_count": 78,
   "id": "3d21048c-6e30-40eb-9be5-3653aacf7c4d",
   "metadata": {
    "tags": []
   },
   "outputs": [],
   "source": [
    "df = df.drop('Timestamp', axis = 1) #remove timestamp column "
   ]
  },
  {
   "cell_type": "code",
   "execution_count": 84,
   "id": "bdbb8f27-74bb-4a18-b350-d84e9684ce1b",
   "metadata": {
    "tags": []
   },
   "outputs": [],
   "source": [
    "proj_df = df[[\"Sex\", \"General Prompt\", \"Anger Prompt\"]]"
   ]
  }
 ],
 "metadata": {
  "kernelspec": {
   "display_name": "Python 3 (ipykernel)",
   "language": "python",
   "name": "python3"
  },
  "language_info": {
   "codemirror_mode": {
    "name": "ipython",
    "version": 3
   },
   "file_extension": ".py",
   "mimetype": "text/x-python",
   "name": "python",
   "nbconvert_exporter": "python",
   "pygments_lexer": "ipython3",
   "version": "3.11.4"
  }
 },
 "nbformat": 4,
 "nbformat_minor": 5
}
