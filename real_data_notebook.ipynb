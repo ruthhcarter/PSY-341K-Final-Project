{
 "cells": [
  {
   "cell_type": "markdown",
   "id": "7726b7b2-ac1d-4117-a37b-b2ce4eac090c",
   "metadata": {},
   "source": [
    "### Preliminaries: "
   ]
  },
  {
   "cell_type": "code",
   "execution_count": 1,
   "id": "7da96de3-a6bc-494f-8d6f-2d6a8b916ad5",
   "metadata": {
    "tags": []
   },
   "outputs": [],
   "source": [
    "import numpy as np\n",
    "import pandas as pd \n",
    "import seaborn as sns\n",
    "import matplotlib.pyplot as plt\n",
    "\n",
    "import sklearn\n",
    "from sklearn.linear_model import LogisticRegression\n",
    "from sklearn.metrics import (accuracy_score, confusion_matrix)\n",
    "import sys\n",
    "\n",
    "import warnings\n",
    "warnings.simplefilter(action='ignore', category=FutureWarning)\n",
    "\n",
    "#this will make our arrays print in their entirety instead of truncating\n",
    "#np.set_printoptions(threshold=sys.maxsize)"
   ]
  },
  {
   "cell_type": "code",
   "execution_count": 404,
   "id": "5dcdb404-c0c1-433e-aaa7-63eb4e83d947",
   "metadata": {
    "tags": []
   },
   "outputs": [],
   "source": [
    "#GUIDE: \n",
    "    #og_df = original df with all data *don't edit* \n",
    "    #df = edited df \n",
    "    #sex_df = df sorted by sex (with both prompts) \n",
    "    # **gen_df = subset of data with only gender x general prompt **\n",
    "    # ** ang_df = subset of data with only gender x anger prompt **\n",
    "    \n",
    "#This may be way too many dataframes, I'm sorry. The main ones we should be using for now should be the last two "
   ]
  },
  {
   "cell_type": "code",
   "execution_count": 2,
   "id": "569dd399-2495-4191-901a-18ec58fdd52e",
   "metadata": {
    "tags": []
   },
   "outputs": [],
   "source": [
    "og_df = pd.read_csv(\"proj_responses.csv\")  #load in dataframe "
   ]
  },
  {
   "cell_type": "code",
   "execution_count": 3,
   "id": "7ee75ae6-a031-4cb2-bc54-62ccbbafee74",
   "metadata": {
    "tags": []
   },
   "outputs": [],
   "source": [
    "df = og_df.copy()   #make copy of df to manipulate "
   ]
  },
  {
   "cell_type": "code",
   "execution_count": 4,
   "id": "2ef015aa-6906-437a-889d-710c5c28bedf",
   "metadata": {},
   "outputs": [
    {
     "data": {
      "text/html": [
       "<div>\n",
       "<style scoped>\n",
       "    .dataframe tbody tr th:only-of-type {\n",
       "        vertical-align: middle;\n",
       "    }\n",
       "\n",
       "    .dataframe tbody tr th {\n",
       "        vertical-align: top;\n",
       "    }\n",
       "\n",
       "    .dataframe thead th {\n",
       "        text-align: right;\n",
       "    }\n",
       "</style>\n",
       "<table border=\"1\" class=\"dataframe\">\n",
       "  <thead>\n",
       "    <tr style=\"text-align: right;\">\n",
       "      <th></th>\n",
       "      <th>Timestamp</th>\n",
       "      <th>Sex</th>\n",
       "      <th>Age</th>\n",
       "      <th>Sexuality</th>\n",
       "      <th>Race</th>\n",
       "      <th>College</th>\n",
       "      <th>Major</th>\n",
       "      <th>Year</th>\n",
       "      <th>General Prompt</th>\n",
       "      <th>Anger Prompt</th>\n",
       "      <th>word count (prompt 1)</th>\n",
       "      <th>word count (prompt 2)</th>\n",
       "    </tr>\n",
       "  </thead>\n",
       "  <tbody>\n",
       "    <tr>\n",
       "      <th>0</th>\n",
       "      <td>2/27/2024 11:58:32</td>\n",
       "      <td>Female</td>\n",
       "      <td>21</td>\n",
       "      <td>Queer/ LGBTQIA+</td>\n",
       "      <td>Asian (including South Asian and Southeast Asian)</td>\n",
       "      <td>Fine Arts</td>\n",
       "      <td>Arts and Entertainment Technologies</td>\n",
       "      <td>Senior</td>\n",
       "      <td>My week was very stressful. Last week I had a ...</td>\n",
       "      <td>I felt angry recently. I feel frustrated at my...</td>\n",
       "      <td>204</td>\n",
       "      <td>195</td>\n",
       "    </tr>\n",
       "    <tr>\n",
       "      <th>1</th>\n",
       "      <td>2/27/2024 12:20:35</td>\n",
       "      <td>Male</td>\n",
       "      <td>19</td>\n",
       "      <td>Queer/ LGBTQIA+</td>\n",
       "      <td>White, Hispanic/ Latino</td>\n",
       "      <td>Engineering</td>\n",
       "      <td>Aerospace Engineering</td>\n",
       "      <td>Sophomore</td>\n",
       "      <td>My week was good, it’s been very hectic I have...</td>\n",
       "      <td>About 2 weeks ago this girl that I had a past ...</td>\n",
       "      <td>191</td>\n",
       "      <td>186</td>\n",
       "    </tr>\n",
       "    <tr>\n",
       "      <th>2</th>\n",
       "      <td>2/27/2024 14:04:00</td>\n",
       "      <td>Female</td>\n",
       "      <td>21</td>\n",
       "      <td>Queer/ LGBTQIA+</td>\n",
       "      <td>Hispanic/ Latino</td>\n",
       "      <td>Fine Arts</td>\n",
       "      <td>Art History</td>\n",
       "      <td>Junior</td>\n",
       "      <td>So far, my week hasn’t been insanely significa...</td>\n",
       "      <td>One time I recently experienced anger may have...</td>\n",
       "      <td>167</td>\n",
       "      <td>150</td>\n",
       "    </tr>\n",
       "    <tr>\n",
       "      <th>3</th>\n",
       "      <td>2/27/2024 14:23:38</td>\n",
       "      <td>Female</td>\n",
       "      <td>21</td>\n",
       "      <td>Queer/ LGBTQIA+</td>\n",
       "      <td>White</td>\n",
       "      <td>Liberal Arts</td>\n",
       "      <td>Plan II/Psychology</td>\n",
       "      <td>Senior</td>\n",
       "      <td>This week I watched Napoleon Dynamite for the ...</td>\n",
       "      <td>A time I recently felt anger has to do with my...</td>\n",
       "      <td>156</td>\n",
       "      <td>164</td>\n",
       "    </tr>\n",
       "    <tr>\n",
       "      <th>4</th>\n",
       "      <td>2/27/2024 14:26:31</td>\n",
       "      <td>Male</td>\n",
       "      <td>20</td>\n",
       "      <td>Straight</td>\n",
       "      <td>Asian (including South Asian and Southeast Asian)</td>\n",
       "      <td>Natural Sciences</td>\n",
       "      <td>Neuroscience</td>\n",
       "      <td>Sophomore</td>\n",
       "      <td>My week has been good. I spent a lot of time b...</td>\n",
       "      <td>Most recently, I have felt anger due to my per...</td>\n",
       "      <td>182</td>\n",
       "      <td>184</td>\n",
       "    </tr>\n",
       "    <tr>\n",
       "      <th>5</th>\n",
       "      <td>2/27/2024 15:02:31</td>\n",
       "      <td>Female</td>\n",
       "      <td>19</td>\n",
       "      <td>Queer/ LGBTQIA+</td>\n",
       "      <td>White</td>\n",
       "      <td>Liberal Arts</td>\n",
       "      <td>Government</td>\n",
       "      <td>Junior</td>\n",
       "      <td>So far my week has had both highs and lows. My...</td>\n",
       "      <td>I feel resentful and angry at life. This peake...</td>\n",
       "      <td>148</td>\n",
       "      <td>155</td>\n",
       "    </tr>\n",
       "    <tr>\n",
       "      <th>6</th>\n",
       "      <td>2/27/2024 15:04:47</td>\n",
       "      <td>Male</td>\n",
       "      <td>21</td>\n",
       "      <td>Queer/ LGBTQIA+</td>\n",
       "      <td>Asian (including South Asian and Southeast Asian)</td>\n",
       "      <td>Natural Sciences</td>\n",
       "      <td>Medical Laboratory Science</td>\n",
       "      <td>Junior</td>\n",
       "      <td>It’s on Tuesday but the week has been pretty g...</td>\n",
       "      <td>The other day my very close friend came up to ...</td>\n",
       "      <td>129</td>\n",
       "      <td>115</td>\n",
       "    </tr>\n",
       "    <tr>\n",
       "      <th>7</th>\n",
       "      <td>2/27/2024 15:39:45</td>\n",
       "      <td>Female</td>\n",
       "      <td>21</td>\n",
       "      <td>Straight</td>\n",
       "      <td>Asian (including South Asian and Southeast Asian)</td>\n",
       "      <td>Natural Sciences</td>\n",
       "      <td>Biology</td>\n",
       "      <td>Senior</td>\n",
       "      <td>Went home last weekend, was nice to finally se...</td>\n",
       "      <td>Got more and more angry the more I realized so...</td>\n",
       "      <td>166</td>\n",
       "      <td>158</td>\n",
       "    </tr>\n",
       "    <tr>\n",
       "      <th>8</th>\n",
       "      <td>2/27/2024 16:44:59</td>\n",
       "      <td>Female</td>\n",
       "      <td>21</td>\n",
       "      <td>Queer/ LGBTQIA+</td>\n",
       "      <td>White, Native American/ Native Hawaiian or oth...</td>\n",
       "      <td>Liberal Arts</td>\n",
       "      <td>English</td>\n",
       "      <td>Junior</td>\n",
       "      <td>My week has been just okay, I’m pretty stresse...</td>\n",
       "      <td>Recently I was pretty angry about a situation ...</td>\n",
       "      <td>183</td>\n",
       "      <td>166</td>\n",
       "    </tr>\n",
       "    <tr>\n",
       "      <th>9</th>\n",
       "      <td>2/27/2024 19:32:36</td>\n",
       "      <td>Male</td>\n",
       "      <td>22</td>\n",
       "      <td>Straight</td>\n",
       "      <td>Asian (including South Asian and Southeast Asian)</td>\n",
       "      <td>Liberal Arts</td>\n",
       "      <td>Sociology</td>\n",
       "      <td>Senior</td>\n",
       "      <td>For the past weekend I went on a trip with my ...</td>\n",
       "      <td>I normally feel anger when I don’t sleep well....</td>\n",
       "      <td>133</td>\n",
       "      <td>97</td>\n",
       "    </tr>\n",
       "    <tr>\n",
       "      <th>10</th>\n",
       "      <td>2/27/2024 21:46:09</td>\n",
       "      <td>Male</td>\n",
       "      <td>21</td>\n",
       "      <td>Straight</td>\n",
       "      <td>Asian (including South Asian and Southeast Asian)</td>\n",
       "      <td>Medical/ Pre-Med / Nursing</td>\n",
       "      <td>Biochemistry</td>\n",
       "      <td>Junior</td>\n",
       "      <td>I haven’t had many significant events over the...</td>\n",
       "      <td>I rarely feel angry about things. In fact, if ...</td>\n",
       "      <td>102</td>\n",
       "      <td>148</td>\n",
       "    </tr>\n",
       "    <tr>\n",
       "      <th>11</th>\n",
       "      <td>2/27/2024 21:55:47</td>\n",
       "      <td>Female</td>\n",
       "      <td>21</td>\n",
       "      <td>Straight</td>\n",
       "      <td>Asian (including South Asian and Southeast Asian)</td>\n",
       "      <td>Natural Sciences</td>\n",
       "      <td>Computer Science</td>\n",
       "      <td>Junior</td>\n",
       "      <td>This past has been pretty good, mostly routine...</td>\n",
       "      <td>although I wasn't necessarily furious, but mor...</td>\n",
       "      <td>123</td>\n",
       "      <td>107</td>\n",
       "    </tr>\n",
       "    <tr>\n",
       "      <th>12</th>\n",
       "      <td>2/27/2024 22:01:27</td>\n",
       "      <td>Male</td>\n",
       "      <td>24</td>\n",
       "      <td>Straight</td>\n",
       "      <td>White, Asian (including South Asian and Southe...</td>\n",
       "      <td>NaN</td>\n",
       "      <td>NaN</td>\n",
       "      <td>NaN</td>\n",
       "      <td>I recently had a job interview where I was not...</td>\n",
       "      <td>I can think of a couple things. First of all, ...</td>\n",
       "      <td>110</td>\n",
       "      <td>114</td>\n",
       "    </tr>\n",
       "    <tr>\n",
       "      <th>13</th>\n",
       "      <td>2/28/2024 1:53:49</td>\n",
       "      <td>Male</td>\n",
       "      <td>20</td>\n",
       "      <td>Queer/ LGBTQIA+</td>\n",
       "      <td>White</td>\n",
       "      <td>Engineering</td>\n",
       "      <td>Mechanical Engineering</td>\n",
       "      <td>Junior</td>\n",
       "      <td>This past week has been very busy in a good wa...</td>\n",
       "      <td>I haven't felt angry in a long time. It's not ...</td>\n",
       "      <td>138</td>\n",
       "      <td>261</td>\n",
       "    </tr>\n",
       "    <tr>\n",
       "      <th>14</th>\n",
       "      <td>2/28/2024 8:30:59</td>\n",
       "      <td>Female</td>\n",
       "      <td>23</td>\n",
       "      <td>Straight</td>\n",
       "      <td>Asian (including South Asian and Southeast Asian)</td>\n",
       "      <td>NaN</td>\n",
       "      <td>NaN</td>\n",
       "      <td>NaN</td>\n",
       "      <td>There were no major significant events in my l...</td>\n",
       "      <td>Last time when I felt anger was when I got int...</td>\n",
       "      <td>118</td>\n",
       "      <td>111</td>\n",
       "    </tr>\n",
       "    <tr>\n",
       "      <th>15</th>\n",
       "      <td>2/28/2024 9:30:51</td>\n",
       "      <td>Female</td>\n",
       "      <td>21</td>\n",
       "      <td>Straight</td>\n",
       "      <td>Hispanic/ Latino</td>\n",
       "      <td>NaN</td>\n",
       "      <td>NaN</td>\n",
       "      <td>NaN</td>\n",
       "      <td>My week has been a little more stressful than ...</td>\n",
       "      <td>The last time I felt anger was last Tuesday an...</td>\n",
       "      <td>201</td>\n",
       "      <td>231</td>\n",
       "    </tr>\n",
       "    <tr>\n",
       "      <th>16</th>\n",
       "      <td>2/28/2024 13:26:50</td>\n",
       "      <td>Female</td>\n",
       "      <td>21</td>\n",
       "      <td>Straight</td>\n",
       "      <td>Asian (including South Asian and Southeast Asian)</td>\n",
       "      <td>Natural Sciences</td>\n",
       "      <td>Public Health</td>\n",
       "      <td>Junior</td>\n",
       "      <td>My week was pretty good. I have a physiology e...</td>\n",
       "      <td>I was angry was when my laptop broke back in J...</td>\n",
       "      <td>111</td>\n",
       "      <td>146</td>\n",
       "    </tr>\n",
       "    <tr>\n",
       "      <th>17</th>\n",
       "      <td>2/28/2024 16:25:27</td>\n",
       "      <td>Female</td>\n",
       "      <td>23</td>\n",
       "      <td>Straight</td>\n",
       "      <td>Asian (including South Asian and Southeast Asian)</td>\n",
       "      <td>NaN</td>\n",
       "      <td>NaN</td>\n",
       "      <td>NaN</td>\n",
       "      <td>My week was good. I learned a lot of new thin...</td>\n",
       "      <td>I felt angry because my roommate didn’t clean ...</td>\n",
       "      <td>141</td>\n",
       "      <td>124</td>\n",
       "    </tr>\n",
       "    <tr>\n",
       "      <th>18</th>\n",
       "      <td>2/28/2024 19:24:09</td>\n",
       "      <td>Female</td>\n",
       "      <td>54</td>\n",
       "      <td>Straight</td>\n",
       "      <td>Asian (including South Asian and Southeast Asian)</td>\n",
       "      <td>NaN</td>\n",
       "      <td>NaN</td>\n",
       "      <td>NaN</td>\n",
       "      <td>My son was down for the winter break, and whil...</td>\n",
       "      <td>Some choices I have made have taken my life’s ...</td>\n",
       "      <td>193</td>\n",
       "      <td>265</td>\n",
       "    </tr>\n",
       "    <tr>\n",
       "      <th>19</th>\n",
       "      <td>2/28/2024 20:02:09</td>\n",
       "      <td>Female</td>\n",
       "      <td>21</td>\n",
       "      <td>Queer/ LGBTQIA+</td>\n",
       "      <td>White</td>\n",
       "      <td>Liberal Arts</td>\n",
       "      <td>Psychology</td>\n",
       "      <td>Junior</td>\n",
       "      <td>My week has been pretty boring… I’ve skipped s...</td>\n",
       "      <td>I felt a little bit of anger towards my Englis...</td>\n",
       "      <td>132</td>\n",
       "      <td>130</td>\n",
       "    </tr>\n",
       "    <tr>\n",
       "      <th>20</th>\n",
       "      <td>2/28/2024 20:15:28</td>\n",
       "      <td>Female</td>\n",
       "      <td>18</td>\n",
       "      <td>Straight</td>\n",
       "      <td>White</td>\n",
       "      <td>NaN</td>\n",
       "      <td>NaN</td>\n",
       "      <td>Freshman</td>\n",
       "      <td>My past week has been relatively uneventful. I...</td>\n",
       "      <td>I got woken up the other day, while I was at h...</td>\n",
       "      <td>146</td>\n",
       "      <td>117</td>\n",
       "    </tr>\n",
       "    <tr>\n",
       "      <th>21</th>\n",
       "      <td>2/28/2024 23:02:40</td>\n",
       "      <td>Female</td>\n",
       "      <td>20</td>\n",
       "      <td>Queer/ LGBTQIA+</td>\n",
       "      <td>White</td>\n",
       "      <td>Natural Sciences</td>\n",
       "      <td>Computer Science</td>\n",
       "      <td>Junior</td>\n",
       "      <td>This past week, I've been playing catch-up aft...</td>\n",
       "      <td>I was walking home from class with a group of ...</td>\n",
       "      <td>130</td>\n",
       "      <td>143</td>\n",
       "    </tr>\n",
       "    <tr>\n",
       "      <th>22</th>\n",
       "      <td>2/28/2024 23:07:55</td>\n",
       "      <td>Female</td>\n",
       "      <td>18</td>\n",
       "      <td>Straight</td>\n",
       "      <td>White</td>\n",
       "      <td>Medical/ Pre-Med / Nursing</td>\n",
       "      <td>Psychology</td>\n",
       "      <td>Freshman</td>\n",
       "      <td>I've had such a busy week and I'm feeling so s...</td>\n",
       "      <td>My roommate has been a really inconsiderate pe...</td>\n",
       "      <td>115</td>\n",
       "      <td>121</td>\n",
       "    </tr>\n",
       "    <tr>\n",
       "      <th>23</th>\n",
       "      <td>2/29/2024 0:35:21</td>\n",
       "      <td>Male</td>\n",
       "      <td>20</td>\n",
       "      <td>Queer/ LGBTQIA+</td>\n",
       "      <td>Other</td>\n",
       "      <td>Business</td>\n",
       "      <td>Supply Chain Management</td>\n",
       "      <td>Junior</td>\n",
       "      <td>My last week was super fun. During the weekend...</td>\n",
       "      <td>I’ve been feeling some anger towards myself th...</td>\n",
       "      <td>169</td>\n",
       "      <td>111</td>\n",
       "    </tr>\n",
       "    <tr>\n",
       "      <th>24</th>\n",
       "      <td>2/29/2024 16:24:22</td>\n",
       "      <td>Male</td>\n",
       "      <td>21</td>\n",
       "      <td>Straight</td>\n",
       "      <td>White</td>\n",
       "      <td>Business</td>\n",
       "      <td>Business</td>\n",
       "      <td>Sophomore</td>\n",
       "      <td>it was okay, feeling burnt out for sure, worki...</td>\n",
       "      <td>i tend to get really self conscious when i’m i...</td>\n",
       "      <td>129</td>\n",
       "      <td>146</td>\n",
       "    </tr>\n",
       "    <tr>\n",
       "      <th>25</th>\n",
       "      <td>2/29/2024 16:45:04</td>\n",
       "      <td>Female</td>\n",
       "      <td>22</td>\n",
       "      <td>Queer/ LGBTQIA+</td>\n",
       "      <td>White</td>\n",
       "      <td>Natural Sciences</td>\n",
       "      <td>Applied science</td>\n",
       "      <td>Sophomore</td>\n",
       "      <td>This week was pretty casual, but I did have a ...</td>\n",
       "      <td>I would say the last time I felt anger and was...</td>\n",
       "      <td>140</td>\n",
       "      <td>150</td>\n",
       "    </tr>\n",
       "    <tr>\n",
       "      <th>26</th>\n",
       "      <td>2/29/2024 18:37:05</td>\n",
       "      <td>Female</td>\n",
       "      <td>22</td>\n",
       "      <td>Straight</td>\n",
       "      <td>Asian (including South Asian and Southeast Asian)</td>\n",
       "      <td>Liberal Arts</td>\n",
       "      <td>Psychology</td>\n",
       "      <td>Senior</td>\n",
       "      <td>My week has been okay. I had a lot of assignme...</td>\n",
       "      <td>I recently felt anger a couple of days back. I...</td>\n",
       "      <td>177</td>\n",
       "      <td>173</td>\n",
       "    </tr>\n",
       "    <tr>\n",
       "      <th>27</th>\n",
       "      <td>2/29/2024 22:48:21</td>\n",
       "      <td>Female</td>\n",
       "      <td>23</td>\n",
       "      <td>Straight</td>\n",
       "      <td>Asian (including South Asian and Southeast Asian)</td>\n",
       "      <td>NaN</td>\n",
       "      <td>NaN</td>\n",
       "      <td>NaN</td>\n",
       "      <td>My week thus far has been relatively calmer th...</td>\n",
       "      <td>It was about a month ago when I felt true ange...</td>\n",
       "      <td>202</td>\n",
       "      <td>179</td>\n",
       "    </tr>\n",
       "    <tr>\n",
       "      <th>28</th>\n",
       "      <td>3/1/2024 13:45:24</td>\n",
       "      <td>Female</td>\n",
       "      <td>22</td>\n",
       "      <td>Straight</td>\n",
       "      <td>Hispanic/ Latino</td>\n",
       "      <td>Liberal Arts</td>\n",
       "      <td>Psychology</td>\n",
       "      <td>Senior</td>\n",
       "      <td>My best friend lied to me and it really hurt m...</td>\n",
       "      <td>I don’t generally get angry, I’m the type of p...</td>\n",
       "      <td>138</td>\n",
       "      <td>164</td>\n",
       "    </tr>\n",
       "    <tr>\n",
       "      <th>29</th>\n",
       "      <td>3/4/2024 12:43:52</td>\n",
       "      <td>Male</td>\n",
       "      <td>20</td>\n",
       "      <td>Straight</td>\n",
       "      <td>White, Asian (including South Asian and Southe...</td>\n",
       "      <td>Natural Sciences</td>\n",
       "      <td>Computational Biology</td>\n",
       "      <td>Sophomore</td>\n",
       "      <td>I had a fantastic week! As a student, I had tw...</td>\n",
       "      <td>I always get angry when I’m hungry. I am hungr...</td>\n",
       "      <td>127</td>\n",
       "      <td>118</td>\n",
       "    </tr>\n",
       "    <tr>\n",
       "      <th>30</th>\n",
       "      <td>3/4/2024 13:04:23</td>\n",
       "      <td>Male</td>\n",
       "      <td>19</td>\n",
       "      <td>Queer/ LGBTQIA+</td>\n",
       "      <td>White, Hispanic/ Latino</td>\n",
       "      <td>Natural Sciences</td>\n",
       "      <td>Chemistry</td>\n",
       "      <td>Freshman</td>\n",
       "      <td>Last week, I got to attend and partake in seve...</td>\n",
       "      <td>Honestly, I'm not someone to generally experie...</td>\n",
       "      <td>144</td>\n",
       "      <td>312</td>\n",
       "    </tr>\n",
       "    <tr>\n",
       "      <th>31</th>\n",
       "      <td>3/4/2024 13:13:32</td>\n",
       "      <td>Male</td>\n",
       "      <td>21</td>\n",
       "      <td>Straight</td>\n",
       "      <td>White</td>\n",
       "      <td>Natural Sciences</td>\n",
       "      <td>Physics/Biochemistry</td>\n",
       "      <td>Junior</td>\n",
       "      <td>It was mid, i was really tired so i either sle...</td>\n",
       "      <td>i heard about somebody being mean to my mama w...</td>\n",
       "      <td>133</td>\n",
       "      <td>132</td>\n",
       "    </tr>\n",
       "    <tr>\n",
       "      <th>32</th>\n",
       "      <td>3/4/2024 14:50:52</td>\n",
       "      <td>Female</td>\n",
       "      <td>20</td>\n",
       "      <td>Queer/ LGBTQIA+</td>\n",
       "      <td>Asian (including South Asian and Southeast Asian)</td>\n",
       "      <td>Natural Sciences</td>\n",
       "      <td>Medical Laboratory Science</td>\n",
       "      <td>Junior</td>\n",
       "      <td>I got broken up with by my boyfriend (now ex) ...</td>\n",
       "      <td>The last time I felt anger was when my boyfrie...</td>\n",
       "      <td>149</td>\n",
       "      <td>158</td>\n",
       "    </tr>\n",
       "    <tr>\n",
       "      <th>33</th>\n",
       "      <td>3/6/2024 9:40:19</td>\n",
       "      <td>Female</td>\n",
       "      <td>19</td>\n",
       "      <td>Queer/ LGBTQIA+</td>\n",
       "      <td>Asian (including South Asian and Southeast Asian)</td>\n",
       "      <td>Engineering</td>\n",
       "      <td>Chemical Engineering</td>\n",
       "      <td>Sophomore</td>\n",
       "      <td>There were not a lot of significant events tha...</td>\n",
       "      <td>I don’t really ever get angry. I think the onl...</td>\n",
       "      <td>204</td>\n",
       "      <td>150</td>\n",
       "    </tr>\n",
       "    <tr>\n",
       "      <th>34</th>\n",
       "      <td>4/2/2024 12:29:58</td>\n",
       "      <td>Male</td>\n",
       "      <td>20</td>\n",
       "      <td>NaN</td>\n",
       "      <td>White, Asian (including South Asian and Southe...</td>\n",
       "      <td>Natural Sciences</td>\n",
       "      <td>Neuroscience</td>\n",
       "      <td>Junior</td>\n",
       "      <td>This past week I primarily just studied at hom...</td>\n",
       "      <td>In general, I do not typically cope with negat...</td>\n",
       "      <td>124</td>\n",
       "      <td>117</td>\n",
       "    </tr>\n",
       "    <tr>\n",
       "      <th>35</th>\n",
       "      <td>4/2/2024 13:22:02</td>\n",
       "      <td>Male</td>\n",
       "      <td>21</td>\n",
       "      <td>Straight</td>\n",
       "      <td>Asian (including South Asian and Southeast Asian)</td>\n",
       "      <td>Engineering</td>\n",
       "      <td>Electrical and Computer Engineering</td>\n",
       "      <td>Junior</td>\n",
       "      <td>The past week has been pretty good, productive...</td>\n",
       "      <td>I don’t know if this is helpful but to be hone...</td>\n",
       "      <td>116</td>\n",
       "      <td>120</td>\n",
       "    </tr>\n",
       "    <tr>\n",
       "      <th>36</th>\n",
       "      <td>4/2/2024 13:48:25</td>\n",
       "      <td>Male</td>\n",
       "      <td>21</td>\n",
       "      <td>Straight</td>\n",
       "      <td>Asian (including South Asian and Southeast Asian)</td>\n",
       "      <td>Natural Sciences</td>\n",
       "      <td>Computer Science</td>\n",
       "      <td>Junior</td>\n",
       "      <td>Over the course of the past week, I've noticed...</td>\n",
       "      <td>In the midst of our team presentation, I found...</td>\n",
       "      <td>281</td>\n",
       "      <td>94</td>\n",
       "    </tr>\n",
       "    <tr>\n",
       "      <th>37</th>\n",
       "      <td>4/2/2024 14:07:21</td>\n",
       "      <td>Male</td>\n",
       "      <td>22</td>\n",
       "      <td>Straight</td>\n",
       "      <td>White, Hispanic/ Latino</td>\n",
       "      <td>Engineering</td>\n",
       "      <td>Architectural engineering</td>\n",
       "      <td>Senior</td>\n",
       "      <td>This past week or two has been very busy juggl...</td>\n",
       "      <td>I felt anger when I failed an exam. Fill space...</td>\n",
       "      <td>118</td>\n",
       "      <td>120</td>\n",
       "    </tr>\n",
       "    <tr>\n",
       "      <th>38</th>\n",
       "      <td>4/2/2024 19:57:24</td>\n",
       "      <td>Male</td>\n",
       "      <td>21</td>\n",
       "      <td>Queer/ LGBTQIA+</td>\n",
       "      <td>Asian (including South Asian and Southeast Asian)</td>\n",
       "      <td>Business</td>\n",
       "      <td>Finance</td>\n",
       "      <td>Junior</td>\n",
       "      <td>Diving into the first part about my week: It's...</td>\n",
       "      <td>As for when did I most recently feel angry, it...</td>\n",
       "      <td>149</td>\n",
       "      <td>117</td>\n",
       "    </tr>\n",
       "    <tr>\n",
       "      <th>39</th>\n",
       "      <td>4/2/2024 20:01:04</td>\n",
       "      <td>Male</td>\n",
       "      <td>19</td>\n",
       "      <td>Straight</td>\n",
       "      <td>Asian (including South Asian and Southeast Asian)</td>\n",
       "      <td>Engineering</td>\n",
       "      <td>Mechanical Engineering</td>\n",
       "      <td>Freshman</td>\n",
       "      <td>This week was packed, not gonna lie. I had thi...</td>\n",
       "      <td>On the anger front, oh boy, let me tell you ab...</td>\n",
       "      <td>113</td>\n",
       "      <td>145</td>\n",
       "    </tr>\n",
       "    <tr>\n",
       "      <th>40</th>\n",
       "      <td>4/2/2024 20:06:16</td>\n",
       "      <td>Male</td>\n",
       "      <td>20</td>\n",
       "      <td>Straight</td>\n",
       "      <td>Asian (including South Asian and Southeast Asian)</td>\n",
       "      <td>Natural Sciences</td>\n",
       "      <td>Computer Science</td>\n",
       "      <td>Sophomore</td>\n",
       "      <td>This week has been unreal, to say the least. T...</td>\n",
       "      <td>Getting turned down by a tech startup I was ex...</td>\n",
       "      <td>111</td>\n",
       "      <td>132</td>\n",
       "    </tr>\n",
       "    <tr>\n",
       "      <th>41</th>\n",
       "      <td>4/2/2024 20:12:51</td>\n",
       "      <td>Male</td>\n",
       "      <td>21</td>\n",
       "      <td>Queer/ LGBTQIA+</td>\n",
       "      <td>Asian (including South Asian and Southeast Asian)</td>\n",
       "      <td>Business</td>\n",
       "      <td>Finance</td>\n",
       "      <td>Junior</td>\n",
       "      <td>This week was a marathon, not a sprint. Leadin...</td>\n",
       "      <td>The toughest point where I was feeling a lot o...</td>\n",
       "      <td>92</td>\n",
       "      <td>102</td>\n",
       "    </tr>\n",
       "    <tr>\n",
       "      <th>42</th>\n",
       "      <td>4/2/2024 20:14:44</td>\n",
       "      <td>Male</td>\n",
       "      <td>20</td>\n",
       "      <td>Queer/ LGBTQIA+</td>\n",
       "      <td>Asian (including South Asian and Southeast Asian)</td>\n",
       "      <td>Medical/ Pre-Med / Nursing</td>\n",
       "      <td>Biology</td>\n",
       "      <td>Sophomore</td>\n",
       "      <td>This past week, I, a college student and violi...</td>\n",
       "      <td>There was a specific instance during my practi...</td>\n",
       "      <td>142</td>\n",
       "      <td>139</td>\n",
       "    </tr>\n",
       "    <tr>\n",
       "      <th>43</th>\n",
       "      <td>4/2/2024 20:16:41</td>\n",
       "      <td>Male</td>\n",
       "      <td>21</td>\n",
       "      <td>Straight</td>\n",
       "      <td>Asian (including South Asian and Southeast Asian)</td>\n",
       "      <td>Natural Sciences</td>\n",
       "      <td>Computer Science</td>\n",
       "      <td>Junior</td>\n",
       "      <td>I am part of a raas dance team, a traditional ...</td>\n",
       "      <td>The absence of our choreographer this week put...</td>\n",
       "      <td>96</td>\n",
       "      <td>100</td>\n",
       "    </tr>\n",
       "    <tr>\n",
       "      <th>44</th>\n",
       "      <td>4/2/2024 20:18:05</td>\n",
       "      <td>Male</td>\n",
       "      <td>21</td>\n",
       "      <td>Straight</td>\n",
       "      <td>Asian (including South Asian and Southeast Asian)</td>\n",
       "      <td>Fine Arts</td>\n",
       "      <td>Filmmaking</td>\n",
       "      <td>Junior</td>\n",
       "      <td>I embarked on a project to capture the diverse...</td>\n",
       "      <td>Discovering that I had lost crucial footage wa...</td>\n",
       "      <td>104</td>\n",
       "      <td>98</td>\n",
       "    </tr>\n",
       "  </tbody>\n",
       "</table>\n",
       "</div>"
      ],
      "text/plain": [
       "             Timestamp     Sex  Age       Sexuality   \\\n",
       "0   2/27/2024 11:58:32  Female   21  Queer/ LGBTQIA+   \n",
       "1   2/27/2024 12:20:35    Male   19  Queer/ LGBTQIA+   \n",
       "2   2/27/2024 14:04:00  Female   21  Queer/ LGBTQIA+   \n",
       "3   2/27/2024 14:23:38  Female   21  Queer/ LGBTQIA+   \n",
       "4   2/27/2024 14:26:31    Male   20         Straight   \n",
       "5   2/27/2024 15:02:31  Female   19  Queer/ LGBTQIA+   \n",
       "6   2/27/2024 15:04:47    Male   21  Queer/ LGBTQIA+   \n",
       "7   2/27/2024 15:39:45  Female   21         Straight   \n",
       "8   2/27/2024 16:44:59  Female   21  Queer/ LGBTQIA+   \n",
       "9   2/27/2024 19:32:36    Male   22         Straight   \n",
       "10  2/27/2024 21:46:09    Male   21         Straight   \n",
       "11  2/27/2024 21:55:47  Female   21         Straight   \n",
       "12  2/27/2024 22:01:27    Male   24         Straight   \n",
       "13   2/28/2024 1:53:49    Male   20  Queer/ LGBTQIA+   \n",
       "14   2/28/2024 8:30:59  Female   23         Straight   \n",
       "15   2/28/2024 9:30:51  Female   21         Straight   \n",
       "16  2/28/2024 13:26:50  Female   21         Straight   \n",
       "17  2/28/2024 16:25:27  Female   23         Straight   \n",
       "18  2/28/2024 19:24:09  Female   54         Straight   \n",
       "19  2/28/2024 20:02:09  Female   21  Queer/ LGBTQIA+   \n",
       "20  2/28/2024 20:15:28  Female   18         Straight   \n",
       "21  2/28/2024 23:02:40  Female   20  Queer/ LGBTQIA+   \n",
       "22  2/28/2024 23:07:55  Female   18         Straight   \n",
       "23   2/29/2024 0:35:21    Male   20  Queer/ LGBTQIA+   \n",
       "24  2/29/2024 16:24:22    Male   21         Straight   \n",
       "25  2/29/2024 16:45:04  Female   22  Queer/ LGBTQIA+   \n",
       "26  2/29/2024 18:37:05  Female   22         Straight   \n",
       "27  2/29/2024 22:48:21  Female   23         Straight   \n",
       "28   3/1/2024 13:45:24  Female   22         Straight   \n",
       "29   3/4/2024 12:43:52    Male   20         Straight   \n",
       "30   3/4/2024 13:04:23    Male   19  Queer/ LGBTQIA+   \n",
       "31   3/4/2024 13:13:32    Male   21         Straight   \n",
       "32   3/4/2024 14:50:52  Female   20  Queer/ LGBTQIA+   \n",
       "33    3/6/2024 9:40:19  Female   19  Queer/ LGBTQIA+   \n",
       "34   4/2/2024 12:29:58    Male   20              NaN   \n",
       "35   4/2/2024 13:22:02    Male   21         Straight   \n",
       "36   4/2/2024 13:48:25    Male   21         Straight   \n",
       "37   4/2/2024 14:07:21    Male   22         Straight   \n",
       "38   4/2/2024 19:57:24    Male   21  Queer/ LGBTQIA+   \n",
       "39   4/2/2024 20:01:04    Male   19         Straight   \n",
       "40   4/2/2024 20:06:16    Male   20         Straight   \n",
       "41   4/2/2024 20:12:51    Male   21  Queer/ LGBTQIA+   \n",
       "42   4/2/2024 20:14:44    Male   20  Queer/ LGBTQIA+   \n",
       "43   4/2/2024 20:16:41    Male   21         Straight   \n",
       "44   4/2/2024 20:18:05    Male   21         Straight   \n",
       "\n",
       "                                                 Race  \\\n",
       "0   Asian (including South Asian and Southeast Asian)   \n",
       "1                             White, Hispanic/ Latino   \n",
       "2                                    Hispanic/ Latino   \n",
       "3                                               White   \n",
       "4   Asian (including South Asian and Southeast Asian)   \n",
       "5                                               White   \n",
       "6   Asian (including South Asian and Southeast Asian)   \n",
       "7   Asian (including South Asian and Southeast Asian)   \n",
       "8   White, Native American/ Native Hawaiian or oth...   \n",
       "9   Asian (including South Asian and Southeast Asian)   \n",
       "10  Asian (including South Asian and Southeast Asian)   \n",
       "11  Asian (including South Asian and Southeast Asian)   \n",
       "12  White, Asian (including South Asian and Southe...   \n",
       "13                                              White   \n",
       "14  Asian (including South Asian and Southeast Asian)   \n",
       "15                                   Hispanic/ Latino   \n",
       "16  Asian (including South Asian and Southeast Asian)   \n",
       "17  Asian (including South Asian and Southeast Asian)   \n",
       "18  Asian (including South Asian and Southeast Asian)   \n",
       "19                                              White   \n",
       "20                                              White   \n",
       "21                                              White   \n",
       "22                                              White   \n",
       "23                                              Other   \n",
       "24                                              White   \n",
       "25                                              White   \n",
       "26  Asian (including South Asian and Southeast Asian)   \n",
       "27  Asian (including South Asian and Southeast Asian)   \n",
       "28                                   Hispanic/ Latino   \n",
       "29  White, Asian (including South Asian and Southe...   \n",
       "30                            White, Hispanic/ Latino   \n",
       "31                                              White   \n",
       "32  Asian (including South Asian and Southeast Asian)   \n",
       "33  Asian (including South Asian and Southeast Asian)   \n",
       "34  White, Asian (including South Asian and Southe...   \n",
       "35  Asian (including South Asian and Southeast Asian)   \n",
       "36  Asian (including South Asian and Southeast Asian)   \n",
       "37                            White, Hispanic/ Latino   \n",
       "38  Asian (including South Asian and Southeast Asian)   \n",
       "39  Asian (including South Asian and Southeast Asian)   \n",
       "40  Asian (including South Asian and Southeast Asian)   \n",
       "41  Asian (including South Asian and Southeast Asian)   \n",
       "42  Asian (including South Asian and Southeast Asian)   \n",
       "43  Asian (including South Asian and Southeast Asian)   \n",
       "44  Asian (including South Asian and Southeast Asian)   \n",
       "\n",
       "                       College                                Major  \\\n",
       "0                    Fine Arts  Arts and Entertainment Technologies   \n",
       "1                  Engineering               Aerospace Engineering    \n",
       "2                    Fine Arts                          Art History   \n",
       "3                 Liberal Arts                   Plan II/Psychology   \n",
       "4             Natural Sciences                         Neuroscience   \n",
       "5                 Liberal Arts                           Government   \n",
       "6             Natural Sciences           Medical Laboratory Science   \n",
       "7             Natural Sciences                              Biology   \n",
       "8                 Liberal Arts                              English   \n",
       "9                 Liberal Arts                           Sociology    \n",
       "10  Medical/ Pre-Med / Nursing                         Biochemistry   \n",
       "11            Natural Sciences                     Computer Science   \n",
       "12                         NaN                                  NaN   \n",
       "13                 Engineering              Mechanical Engineering    \n",
       "14                         NaN                                  NaN   \n",
       "15                         NaN                                  NaN   \n",
       "16            Natural Sciences                        Public Health   \n",
       "17                         NaN                                  NaN   \n",
       "18                         NaN                                  NaN   \n",
       "19                Liberal Arts                           Psychology   \n",
       "20                         NaN                                  NaN   \n",
       "21            Natural Sciences                     Computer Science   \n",
       "22  Medical/ Pre-Med / Nursing                           Psychology   \n",
       "23                    Business             Supply Chain Management    \n",
       "24                    Business                             Business   \n",
       "25            Natural Sciences                     Applied science    \n",
       "26                Liberal Arts                          Psychology    \n",
       "27                         NaN                                  NaN   \n",
       "28                Liberal Arts                          Psychology    \n",
       "29            Natural Sciences                Computational Biology   \n",
       "30            Natural Sciences                            Chemistry   \n",
       "31            Natural Sciences                 Physics/Biochemistry   \n",
       "32            Natural Sciences           Medical Laboratory Science   \n",
       "33                 Engineering                Chemical Engineering    \n",
       "34            Natural Sciences                         Neuroscience   \n",
       "35                 Engineering  Electrical and Computer Engineering   \n",
       "36            Natural Sciences                     Computer Science   \n",
       "37                 Engineering            Architectural engineering   \n",
       "38                    Business                              Finance   \n",
       "39                 Engineering               Mechanical Engineering   \n",
       "40            Natural Sciences                     Computer Science   \n",
       "41                    Business                              Finance   \n",
       "42  Medical/ Pre-Med / Nursing                              Biology   \n",
       "43            Natural Sciences                     Computer Science   \n",
       "44                   Fine Arts                           Filmmaking   \n",
       "\n",
       "         Year                                     General Prompt  \\\n",
       "0      Senior  My week was very stressful. Last week I had a ...   \n",
       "1   Sophomore  My week was good, it’s been very hectic I have...   \n",
       "2      Junior  So far, my week hasn’t been insanely significa...   \n",
       "3      Senior  This week I watched Napoleon Dynamite for the ...   \n",
       "4   Sophomore  My week has been good. I spent a lot of time b...   \n",
       "5      Junior  So far my week has had both highs and lows. My...   \n",
       "6      Junior  It’s on Tuesday but the week has been pretty g...   \n",
       "7      Senior  Went home last weekend, was nice to finally se...   \n",
       "8      Junior  My week has been just okay, I’m pretty stresse...   \n",
       "9      Senior  For the past weekend I went on a trip with my ...   \n",
       "10     Junior  I haven’t had many significant events over the...   \n",
       "11     Junior  This past has been pretty good, mostly routine...   \n",
       "12        NaN  I recently had a job interview where I was not...   \n",
       "13     Junior  This past week has been very busy in a good wa...   \n",
       "14        NaN  There were no major significant events in my l...   \n",
       "15        NaN  My week has been a little more stressful than ...   \n",
       "16     Junior  My week was pretty good. I have a physiology e...   \n",
       "17        NaN   My week was good. I learned a lot of new thin...   \n",
       "18        NaN  My son was down for the winter break, and whil...   \n",
       "19     Junior  My week has been pretty boring… I’ve skipped s...   \n",
       "20   Freshman  My past week has been relatively uneventful. I...   \n",
       "21     Junior  This past week, I've been playing catch-up aft...   \n",
       "22   Freshman  I've had such a busy week and I'm feeling so s...   \n",
       "23     Junior  My last week was super fun. During the weekend...   \n",
       "24  Sophomore  it was okay, feeling burnt out for sure, worki...   \n",
       "25  Sophomore  This week was pretty casual, but I did have a ...   \n",
       "26     Senior  My week has been okay. I had a lot of assignme...   \n",
       "27        NaN  My week thus far has been relatively calmer th...   \n",
       "28     Senior  My best friend lied to me and it really hurt m...   \n",
       "29  Sophomore  I had a fantastic week! As a student, I had tw...   \n",
       "30   Freshman  Last week, I got to attend and partake in seve...   \n",
       "31     Junior  It was mid, i was really tired so i either sle...   \n",
       "32     Junior  I got broken up with by my boyfriend (now ex) ...   \n",
       "33  Sophomore  There were not a lot of significant events tha...   \n",
       "34     Junior  This past week I primarily just studied at hom...   \n",
       "35     Junior  The past week has been pretty good, productive...   \n",
       "36     Junior  Over the course of the past week, I've noticed...   \n",
       "37     Senior  This past week or two has been very busy juggl...   \n",
       "38     Junior  Diving into the first part about my week: It's...   \n",
       "39   Freshman  This week was packed, not gonna lie. I had thi...   \n",
       "40  Sophomore  This week has been unreal, to say the least. T...   \n",
       "41     Junior  This week was a marathon, not a sprint. Leadin...   \n",
       "42  Sophomore  This past week, I, a college student and violi...   \n",
       "43     Junior  I am part of a raas dance team, a traditional ...   \n",
       "44     Junior  I embarked on a project to capture the diverse...   \n",
       "\n",
       "                                         Anger Prompt  word count (prompt 1)  \\\n",
       "0   I felt angry recently. I feel frustrated at my...                    204   \n",
       "1   About 2 weeks ago this girl that I had a past ...                    191   \n",
       "2   One time I recently experienced anger may have...                    167   \n",
       "3   A time I recently felt anger has to do with my...                    156   \n",
       "4   Most recently, I have felt anger due to my per...                    182   \n",
       "5   I feel resentful and angry at life. This peake...                    148   \n",
       "6   The other day my very close friend came up to ...                    129   \n",
       "7   Got more and more angry the more I realized so...                    166   \n",
       "8   Recently I was pretty angry about a situation ...                    183   \n",
       "9   I normally feel anger when I don’t sleep well....                    133   \n",
       "10  I rarely feel angry about things. In fact, if ...                    102   \n",
       "11  although I wasn't necessarily furious, but mor...                    123   \n",
       "12  I can think of a couple things. First of all, ...                    110   \n",
       "13  I haven't felt angry in a long time. It's not ...                    138   \n",
       "14  Last time when I felt anger was when I got int...                    118   \n",
       "15  The last time I felt anger was last Tuesday an...                    201   \n",
       "16  I was angry was when my laptop broke back in J...                    111   \n",
       "17  I felt angry because my roommate didn’t clean ...                    141   \n",
       "18  Some choices I have made have taken my life’s ...                    193   \n",
       "19  I felt a little bit of anger towards my Englis...                    132   \n",
       "20  I got woken up the other day, while I was at h...                    146   \n",
       "21  I was walking home from class with a group of ...                    130   \n",
       "22  My roommate has been a really inconsiderate pe...                    115   \n",
       "23  I’ve been feeling some anger towards myself th...                    169   \n",
       "24  i tend to get really self conscious when i’m i...                    129   \n",
       "25  I would say the last time I felt anger and was...                    140   \n",
       "26  I recently felt anger a couple of days back. I...                    177   \n",
       "27  It was about a month ago when I felt true ange...                    202   \n",
       "28  I don’t generally get angry, I’m the type of p...                    138   \n",
       "29  I always get angry when I’m hungry. I am hungr...                    127   \n",
       "30  Honestly, I'm not someone to generally experie...                    144   \n",
       "31  i heard about somebody being mean to my mama w...                    133   \n",
       "32  The last time I felt anger was when my boyfrie...                    149   \n",
       "33  I don’t really ever get angry. I think the onl...                    204   \n",
       "34  In general, I do not typically cope with negat...                    124   \n",
       "35  I don’t know if this is helpful but to be hone...                    116   \n",
       "36  In the midst of our team presentation, I found...                    281   \n",
       "37  I felt anger when I failed an exam. Fill space...                    118   \n",
       "38  As for when did I most recently feel angry, it...                    149   \n",
       "39  On the anger front, oh boy, let me tell you ab...                    113   \n",
       "40  Getting turned down by a tech startup I was ex...                    111   \n",
       "41  The toughest point where I was feeling a lot o...                     92   \n",
       "42  There was a specific instance during my practi...                    142   \n",
       "43  The absence of our choreographer this week put...                     96   \n",
       "44  Discovering that I had lost crucial footage wa...                    104   \n",
       "\n",
       "    word count (prompt 2)  \n",
       "0                     195  \n",
       "1                     186  \n",
       "2                     150  \n",
       "3                     164  \n",
       "4                     184  \n",
       "5                     155  \n",
       "6                     115  \n",
       "7                     158  \n",
       "8                     166  \n",
       "9                      97  \n",
       "10                    148  \n",
       "11                    107  \n",
       "12                    114  \n",
       "13                    261  \n",
       "14                    111  \n",
       "15                    231  \n",
       "16                    146  \n",
       "17                    124  \n",
       "18                    265  \n",
       "19                    130  \n",
       "20                    117  \n",
       "21                    143  \n",
       "22                    121  \n",
       "23                    111  \n",
       "24                    146  \n",
       "25                    150  \n",
       "26                    173  \n",
       "27                    179  \n",
       "28                    164  \n",
       "29                    118  \n",
       "30                    312  \n",
       "31                    132  \n",
       "32                    158  \n",
       "33                    150  \n",
       "34                    117  \n",
       "35                    120  \n",
       "36                     94  \n",
       "37                    120  \n",
       "38                    117  \n",
       "39                    145  \n",
       "40                    132  \n",
       "41                    102  \n",
       "42                    139  \n",
       "43                    100  \n",
       "44                     98  "
      ]
     },
     "execution_count": 4,
     "metadata": {},
     "output_type": "execute_result"
    }
   ],
   "source": [
    "df"
   ]
  },
  {
   "cell_type": "markdown",
   "id": "e6032679-0af2-4d13-b2e8-02698b952132",
   "metadata": {},
   "source": [
    "### Wrangling: "
   ]
  },
  {
   "cell_type": "code",
   "execution_count": 5,
   "id": "69c29eba-27a7-47cd-a027-bc20aeebd804",
   "metadata": {
    "tags": []
   },
   "outputs": [],
   "source": [
    "df = df.drop('Timestamp', axis = 1) #remove timestamp column \n",
    "df = df.drop(index = [18, 37]) \n",
    "\n",
    "#ignore error msgs "
   ]
  },
  {
   "cell_type": "code",
   "execution_count": 7,
   "id": "9b749041-1508-4f8c-a392-3e842362db47",
   "metadata": {
    "tags": []
   },
   "outputs": [],
   "source": [
    "## binarizing gender column: men = 0, women = 1 \n",
    "sex_df = df.sort_values(\"Sex\").reset_index()  #sort by gender \n",
    "sex_df.loc[0:20, 'Sex'] = 1  #rows 0-20 = 1 for woman\n",
    "sex_df.loc[21:, 'Sex'] = 0 #rows 21 to end = 0 for man"
   ]
  },
  {
   "cell_type": "code",
   "execution_count": 8,
   "id": "3d5b4387-b897-4cdc-9a27-3440da9af264",
   "metadata": {
    "tags": []
   },
   "outputs": [],
   "source": [
    "#making df for general prompt and anger prompt: \n",
    "gen_df = sex_df[[\"Sex\", \"General Prompt\"]]\n",
    "ang_df = sex_df[[\"Sex\", \"Anger Prompt\"]]"
   ]
  },
  {
   "cell_type": "markdown",
   "id": "4a95786d-84a8-4fae-8045-40519842ffd0",
   "metadata": {
    "tags": []
   },
   "source": [
    "### Making the Gendered Prompts Columns"
   ]
  },
  {
   "cell_type": "code",
   "execution_count": 9,
   "id": "baadd8dd-cf4c-41c0-a6b0-eaacf6f3cc42",
   "metadata": {
    "tags": []
   },
   "outputs": [],
   "source": [
    "## all female gen \n",
    "fem_gen = gen_df[0:21]"
   ]
  },
  {
   "cell_type": "code",
   "execution_count": 10,
   "id": "7f6c85ea-3c9c-47a0-ae1a-41b39b993218",
   "metadata": {
    "tags": []
   },
   "outputs": [],
   "source": [
    "## all male gen \n",
    "men_gen = gen_df[21:]"
   ]
  },
  {
   "cell_type": "code",
   "execution_count": 11,
   "id": "dbbb08ac-3163-4149-9210-901c444a1f94",
   "metadata": {
    "tags": []
   },
   "outputs": [],
   "source": [
    "## all female anger \n",
    "fem_anger = ang_df[0:21]"
   ]
  },
  {
   "cell_type": "code",
   "execution_count": 12,
   "id": "ed8b4913-406d-45ae-bf2d-18404f730c4c",
   "metadata": {
    "tags": []
   },
   "outputs": [],
   "source": [
    "## all male anger \n",
    "men_anger = ang_df[21:]"
   ]
  },
  {
   "cell_type": "markdown",
   "id": "0c12a6cf-1473-4feb-94aa-6082c0e88a71",
   "metadata": {},
   "source": [
    "### Making Train/Test"
   ]
  },
  {
   "cell_type": "code",
   "execution_count": 13,
   "id": "cba76d78-ae44-401a-8b5f-6ed9ef28e6c4",
   "metadata": {
    "tags": []
   },
   "outputs": [],
   "source": [
    "## General Train Set\n",
    "gen_train = pd.concat([fem_gen[:17], men_gen[:17]])"
   ]
  },
  {
   "cell_type": "code",
   "execution_count": 14,
   "id": "38f8747c-633d-4275-91e7-9ac06f2cf9c1",
   "metadata": {
    "tags": []
   },
   "outputs": [],
   "source": [
    "## General Test Set\n",
    "gen_test = pd.concat([fem_gen[17:], men_gen[17:]])"
   ]
  },
  {
   "cell_type": "code",
   "execution_count": 15,
   "id": "9bbf57b5-e93a-4daf-a2d2-0a2ac1daf924",
   "metadata": {
    "tags": []
   },
   "outputs": [],
   "source": [
    "## Anger Train Set\n",
    "ang_train = pd.concat([fem_anger[:17], men_anger[:17]])"
   ]
  },
  {
   "cell_type": "code",
   "execution_count": 16,
   "id": "178785bd-d6fc-48fe-8626-b49da7f303e3",
   "metadata": {
    "tags": []
   },
   "outputs": [],
   "source": [
    "## Anger Test Set\n",
    "ang_test = pd.concat([fem_anger[17:], men_anger[17:]])"
   ]
  },
  {
   "cell_type": "markdown",
   "id": "7ad4a472-17d3-40ff-a7a0-5258b34b1668",
   "metadata": {},
   "source": [
    "## Data Visualizations: "
   ]
  },
  {
   "cell_type": "code",
   "execution_count": 17,
   "id": "7290d4a3-3665-4820-84c4-692ee3ed2a09",
   "metadata": {
    "tags": []
   },
   "outputs": [
    {
     "data": {
      "image/png": "[encoded data removed]",
      "text/plain": [
       "<Figure size 640x480 with 1 Axes>"
      ]
     },
     "metadata": {},
     "output_type": "display_data"
    }
   ],
   "source": [
    "#age hist\n",
    "sns.histplot(data = sex_df, x = \"Age\", color = 'pink', hue = 'Sex');"
   ]
  },
  {
   "cell_type": "code",
   "execution_count": 18,
   "id": "2f30f42f-53ee-423e-a7d0-ec9d8ea8c4fa",
   "metadata": {
    "tags": []
   },
   "outputs": [
    {
     "data": {
      "image/png": "[encoded data removed]",
      "text/plain": [
       "<Figure size 640x480 with 1 Axes>"
      ]
     },
     "metadata": {},
     "output_type": "display_data"
    }
   ],
   "source": [
    "#gen prompt hist\n",
    "sns.histplot(data= sex_df, x = \"word count (prompt 1)\");"
   ]
  },
  {
   "cell_type": "code",
   "execution_count": 19,
   "id": "9fc6e0ad-5dd2-499b-86be-3e524e595107",
   "metadata": {
    "tags": []
   },
   "outputs": [
    {
     "data": {
      "image/png": "[encoded data removed]",
      "text/plain": [
       "<Figure size 640x480 with 1 Axes>"
      ]
     },
     "metadata": {},
     "output_type": "display_data"
    }
   ],
   "source": [
    "#anger prompt hist\n",
    "sns.histplot(data= sex_df, x = \"word count (prompt 2)\", color = 'forestgreen');"
   ]
  },
  {
   "cell_type": "markdown",
   "id": "b5aa070b-f493-4e3f-b391-89b285c71445",
   "metadata": {},
   "source": [
    "### Processing the Text"
   ]
  },
  {
   "cell_type": "code",
   "execution_count": 20,
   "id": "8701ed60-4624-4160-a340-eb171a061b8f",
   "metadata": {
    "tags": []
   },
   "outputs": [],
   "source": [
    "#import packages\n",
    "from sklearn.feature_extraction.text import CountVectorizer\n",
    "import nltk\n",
    "from nltk.tokenize.casual import TweetTokenizer\n",
    "from nltk.corpus import stopwords\n",
    "ttokenizer = TweetTokenizer() "
   ]
  },
  {
   "cell_type": "code",
   "execution_count": 21,
   "id": "dd3e3c6c-47fb-404e-8a6e-98db908364aa",
   "metadata": {
    "tags": []
   },
   "outputs": [],
   "source": [
    "#tokenize our general train responses\n",
    "gen_train_prompts= [] \n",
    "for entry in gen_train[\"General Prompt\"]: \n",
    "    tokenized_entry = ttokenizer.tokenize(entry)\n",
    "    gen_train_prompts.append(tokenized_entry)"
   ]
  },
  {
   "cell_type": "code",
   "execution_count": 22,
   "id": "a20b4f0b-c3cd-48c0-915a-9f5d6ca6ceaf",
   "metadata": {
    "tags": []
   },
   "outputs": [],
   "source": [
    "#tokenize our general test responeses\n",
    "gen_test_prompts= [] \n",
    "for entry in gen_test[\"General Prompt\"]: \n",
    "    tokenized_entry = ttokenizer.tokenize(entry)\n",
    "    gen_test_prompts.append(tokenized_entry)"
   ]
  },
  {
   "cell_type": "code",
   "execution_count": 23,
   "id": "5dcfd9f6-48f8-484b-b546-5d4724876aac",
   "metadata": {
    "tags": []
   },
   "outputs": [],
   "source": [
    "#tokenize our angry train responeses\n",
    "ang_train_prompts = [] \n",
    "for entry in ang_train[\"Anger Prompt\"]: \n",
    "    tokenized_entry = ttokenizer.tokenize(entry)\n",
    "    ang_train_prompts.append(tokenized_entry)"
   ]
  },
  {
   "cell_type": "code",
   "execution_count": 24,
   "id": "c5bf2697-e870-4552-ab90-e7b93ed1afa9",
   "metadata": {
    "tags": []
   },
   "outputs": [],
   "source": [
    "#tokenize our angry test responeses\n",
    "ang_test_prompts = [] \n",
    "for entry in ang_test[\"Anger Prompt\"]: \n",
    "    tokenized_entry = ttokenizer.tokenize(entry)\n",
    "    ang_test_prompts.append(tokenized_entry)"
   ]
  },
  {
   "cell_type": "markdown",
   "id": "c7cf4dd4-934d-4380-8732-c319e6d08202",
   "metadata": {},
   "source": [
    "### Proceessing the Gendered Text:"
   ]
  },
  {
   "cell_type": "code",
   "execution_count": 30,
   "id": "1381080c-fe43-417f-b043-c9eb2eb83002",
   "metadata": {
    "tags": []
   },
   "outputs": [],
   "source": [
    "#function for removing stop words: \n",
    "def remove_stop_words(df): \n",
    "    responses_without_stop = []\n",
    "    \n",
    "    for entry in df:\n",
    "        text_with_stop_words = entry\n",
    "        text_without_stop_words = [word for word in text_with_stop_words if word not in stopwords.words(\"english\")]\n",
    "        responses_without_stop.append(text_without_stop_words)\n",
    "    return(responses_without_stop)"
   ]
  },
  {
   "cell_type": "code",
   "execution_count": 31,
   "id": "6a127dcc",
   "metadata": {
    "tags": []
   },
   "outputs": [],
   "source": [
    "## function for unigram freq: \n",
    "def unigram_frequency(list): \n",
    "    #create lists to store unigram frequency\n",
    "    unigram_freqs = []\n",
    "\n",
    "    #for each entry, calculate n-grams and frequency, then store in respective list \n",
    "    for entry in list: \n",
    "        unigram_frequency_distribution = nltk.FreqDist(entry)\n",
    "        unigrams = [ (unigram, unigram_frequency_distribution[unigram]) for unigram in unigram_frequency_distribution ]\n",
    "        unigram_freqs.append(unigrams)\n",
    "    return unigram_freqs"
   ]
  },
  {
   "cell_type": "code",
   "execution_count": 32,
   "id": "e2ca4911-fe6c-4a04-af75-c9f7b2948125",
   "metadata": {
    "tags": []
   },
   "outputs": [],
   "source": [
    "# function for unigram vocab: \n",
    "def unigram_vocab(freqs_list):\n",
    "    vocab = [] \n",
    "\n",
    "    #for each entry, add every unigram to the unigram vocab\n",
    "    for entry in freqs_list:\n",
    "        for x in entry:\n",
    "            unigram = x[0]\n",
    "            vocab.append(unigram)\n",
    "    return vocab"
   ]
  },
  {
   "cell_type": "code",
   "execution_count": 35,
   "id": "b56d14f9-3026-4b49-b880-443446ec65bd",
   "metadata": {
    "tags": []
   },
   "outputs": [],
   "source": [
    "# function to create feature array based on vocab and freq of unigram\n",
    "def unigram_features(data,vocab):\n",
    "    features = []\n",
    "    \n",
    "    for entry in data: \n",
    "        freqs = [0] * len(vocab)\n",
    "        #for each unigram in tweet, replace frequency in instance list with frequency\n",
    "        for x in entry:\n",
    "            unigram = x[0]\n",
    "            freq = x[1]\n",
    "            freqs[vocab.index(unigram)] = freq\n",
    "        #append instance frequency list to features array\n",
    "        features.append(freqs)\n",
    "    \n",
    "    return features"
   ]
  },
  {
   "cell_type": "code",
   "execution_count": 36,
   "id": "f5c835d6-994d-45d7-b34b-f28c78e9a7f4",
   "metadata": {},
   "outputs": [],
   "source": [
    "fem_gen_prompts = [] \n",
    "for entry in fem_gen[\"General Prompt\"]: \n",
    "    tokenized_entry = ttokenizer.tokenize(entry)\n",
    "    fem_gen_prompts.append(tokenized_entry)\n",
    "    \n",
    "fem_gen_list = remove_stop_words(fem_gen_prompts)\n"
   ]
  },
  {
   "cell_type": "code",
   "execution_count": 37,
   "id": "e97449bb-a962-4096-b5f6-4dfecef17cce",
   "metadata": {},
   "outputs": [],
   "source": [
    "fem_ang_prompts = [] \n",
    "for entry in fem_anger[\"Anger Prompt\"]: \n",
    "    tokenized_entry = ttokenizer.tokenize(entry)\n",
    "    fem_ang_prompts.append(tokenized_entry)\n",
    "    \n",
    "fem_ang_list = remove_stop_words(fem_ang_prompts)\n"
   ]
  },
  {
   "cell_type": "code",
   "execution_count": 38,
   "id": "704f0892-4480-460a-92d4-6387086a8da2",
   "metadata": {},
   "outputs": [],
   "source": [
    "men_gen_prompts = [] \n",
    "for entry in men_gen[\"General Prompt\"]: \n",
    "    tokenized_entry = ttokenizer.tokenize(entry)\n",
    "    men_gen_prompts.append(tokenized_entry)\n",
    "    \n",
    "men_gen_list = remove_stop_words(men_gen_prompts)\n"
   ]
  },
  {
   "cell_type": "code",
   "execution_count": 39,
   "id": "04558879-653e-451b-a2e9-5840a76fc0e2",
   "metadata": {},
   "outputs": [],
   "source": [
    "men_ang_prompts = [] \n",
    "for entry in men_anger[\"Anger Prompt\"]: \n",
    "    tokenized_entry = ttokenizer.tokenize(entry)\n",
    "    men_ang_prompts.append(tokenized_entry)\n",
    "    \n",
    "men_ang_list = remove_stop_words(men_ang_prompts)\n"
   ]
  },
  {
   "cell_type": "markdown",
   "id": "a29aae99",
   "metadata": {},
   "source": [
    "### Cleaning entries"
   ]
  },
  {
   "cell_type": "markdown",
   "id": "7fee8a74-05da-45f7-bab2-f3abb818addf",
   "metadata": {},
   "source": [
    "### Unigram Feature: \n",
    "- unigram_frequency\n",
    "- unigram_vocab\n",
    "- append into master list \n",
    "- unigram_features "
   ]
  },
  {
   "cell_type": "code",
   "execution_count": 40,
   "id": "c016bf15-fa2d-459a-bba6-39732a2fda68",
   "metadata": {
    "tags": []
   },
   "outputs": [],
   "source": [
    "## removing stop words from all dfs: \n",
    "gen_train_list = remove_stop_words(gen_train_prompts)\n",
    "gen_test_list = remove_stop_words(gen_test_prompts)\n",
    "ang_train_list = remove_stop_words(ang_train_prompts)\n",
    "ang_test_list = remove_stop_words(ang_test_prompts)"
   ]
  },
  {
   "cell_type": "code",
   "execution_count": 41,
   "id": "f016c8e9-f75b-4507-bc80-31c780d57c0d",
   "metadata": {
    "tags": []
   },
   "outputs": [],
   "source": [
    "#Making frequency list of each individual set\n",
    "gen_train_freq = unigram_frequency(gen_train_list) \n",
    "gen_test_freq = unigram_frequency(gen_test_list) \n",
    "ang_train_freq = unigram_frequency(ang_train_list) \n",
    "ang_test_freq = unigram_frequency(ang_test_list) "
   ]
  },
  {
   "cell_type": "code",
   "execution_count": 42,
   "id": "5f252c2d-da55-40f0-ad3b-5afcc8466aa4",
   "metadata": {
    "tags": []
   },
   "outputs": [],
   "source": [
    "#Making vocab list of each individual set\n",
    "gen_train_vocab = unigram_vocab(gen_train_freq) \n",
    "gen_test_vocab = unigram_vocab(gen_test_freq) \n",
    "ang_train_vocab = unigram_vocab(ang_train_freq) \n",
    "ang_test_vocab = unigram_vocab(ang_test_freq) "
   ]
  },
  {
   "cell_type": "code",
   "execution_count": 43,
   "id": "178f551a-2ed9-4993-99da-c67a3ee021b6",
   "metadata": {
    "tags": []
   },
   "outputs": [],
   "source": [
    "#Making master list of each vocab list \n",
    "vocabularies = [gen_train_vocab, gen_test_vocab, ang_train_vocab, ang_test_vocab]\n",
    "\n",
    "# Master list to store all vocabularies\n",
    "master_list = []\n",
    "\n",
    "# Loop through each vocabulary and append it to the master_list\n",
    "for vocab in vocabularies:\n",
    "    master_list.extend(vocab)\n",
    "\n",
    "master_list = sorted(list(set(master_list)))"
   ]
  },
  {
   "cell_type": "code",
   "execution_count": 44,
   "id": "07e09704-834c-4fdb-8eac-eb7c28cf2073",
   "metadata": {
    "tags": []
   },
   "outputs": [],
   "source": [
    "#Making features arrays \n",
    "gen_train_feat = unigram_features(gen_train_freq, master_list) \n",
    "gen_test_feat = unigram_features(gen_test_freq, master_list) \n",
    "ang_train_feat = unigram_features(ang_train_freq, master_list) \n",
    "ang_test_feat = unigram_features(ang_test_freq, master_list) "
   ]
  },
  {
   "cell_type": "markdown",
   "id": "9e0af82e-a7d8-400f-94c8-5be41a975720",
   "metadata": {},
   "source": [
    "### Making the Labels: "
   ]
  },
  {
   "cell_type": "code",
   "execution_count": 45,
   "id": "5bee0772-2bb7-4f7b-9e68-b72ecb41b815",
   "metadata": {
    "tags": []
   },
   "outputs": [],
   "source": [
    "gen_train_labels = gen_train['Sex'].tolist()\n",
    "gen_test_labels = gen_test['Sex'].tolist()\n",
    "ang_train_labels = ang_train['Sex'].tolist()\n",
    "ang_test_labels = ang_test['Sex'].tolist()"
   ]
  },
  {
   "cell_type": "markdown",
   "id": "1f3783d9",
   "metadata": {},
   "source": [
    "### Predictive Model based on Unigrams"
   ]
  },
  {
   "cell_type": "markdown",
   "id": "54ddc642-e1ae-4d72-8775-8c93afb5a074",
   "metadata": {},
   "source": [
    "The confusion matrix displays the following information for us:\n",
    "\n",
    "|  | **Prediction = 0/Male**   | **Prediction = 1/Female** |\n",
    "|  ----   | -------- | ------- |\n",
    "|**Actual = 0/Male** | True Male  | False Female  |\n",
    "| **Actual = 1/Male**|False Male | True Female    |\n",
    "\n",
    "We will train a logistic regression model for the general prompt responses and anger prompt responses, then test both models on a respective test set. We will also compute accuracy scores and print a confusion matrix to analyze further. "
   ]
  },
  {
   "cell_type": "markdown",
   "id": "dacd3db0-fec6-4648-bbff-521022761a8f",
   "metadata": {},
   "source": [
    "### Hypothesis 1: Unigrams"
   ]
  },
  {
   "cell_type": "code",
   "execution_count": 46,
   "id": "3001fc71",
   "metadata": {
    "tags": []
   },
   "outputs": [
    {
     "name": "stdout",
     "output_type": "stream",
     "text": [
      "[1 0 0 1 0 1 1 0 0]\n",
      "Test accuracy:  0.5555555555555556\n",
      "Confusion Matrix : \n",
      " [[3 2]\n",
      " [2 2]]\n"
     ]
    }
   ],
   "source": [
    "#gen model and test\n",
    "set\n",
    "#using L2 regularisation\n",
    "lm_log_gen = LogisticRegression().fit(gen_train_feat, gen_train_labels)\n",
    "\n",
    "test_pred = lm_log_gen.predict(gen_test_feat)  \n",
    "print(test_pred)\n",
    "test_pred_round = np.round(test_pred)\n",
    "\n",
    "gen_cf_matrix = confusion_matrix(gen_test_labels, test_pred_round) \n",
    "\n",
    "#print accuracy and confusion matrix\n",
    "print('Test accuracy: ', accuracy_score(gen_test_labels, test_pred_round))\n",
    "print (\"Confusion Matrix : \\n\", confusion_matrix(gen_test_labels, test_pred_round) ) "
   ]
  },
  {
   "cell_type": "code",
   "execution_count": 47,
   "id": "9c949d0b-1198-4e20-9f4b-364ad521ba34",
   "metadata": {},
   "outputs": [
    {
     "data": {
      "text/plain": [
       "array([[3, 2],\n",
       "       [2, 2]])"
      ]
     },
     "execution_count": 47,
     "metadata": {},
     "output_type": "execute_result"
    }
   ],
   "source": [
    "gen_cf_matrix"
   ]
  },
  {
   "cell_type": "code",
   "execution_count": 48,
   "id": "2b8a50f6-70b8-4636-9cb6-4651aa212e2d",
   "metadata": {},
   "outputs": [],
   "source": [
    "def plot_confusion_matrix(cm, title='Confusion matrix', cmap=plt.cm.Blues):\n",
    "    plt.imshow(cm, interpolation='nearest', cmap=cmap)\n",
    "    plt.title(title)\n",
    "    plt.colorbar()\n",
    "    \n",
    "    plt.xticks(np.arange(2), ['Male', 'Female'], fontsize = 10)\n",
    "    plt.yticks(np.arange(2), ['Male', 'Female'], fontsize = 10)\n",
    "    \n",
    "    thresh = cm.max() / 1.5\n",
    "    for i in range(cm.shape[0]):\n",
    "        for j in range(cm.shape[1]):\n",
    "            plt.text(j, i, format(cm[i, j], 'd'),\n",
    "                     horizontalalignment=\"center\",\n",
    "                     fontsize = 15,\n",
    "                     color=\"white\" if cm[i, j] > thresh else \"black\")\n",
    "\n",
    "    plt.ylabel('Actual', fontsize = 12)\n",
    "    plt.xlabel('Predicted', fontsize = 12)\n",
    "    plt.tight_layout()\n",
    "    \n"
   ]
  },
  {
   "cell_type": "code",
   "execution_count": 74,
   "id": "ef8e2e5f-5eb8-4097-9aca-703a6a8b99cf",
   "metadata": {},
   "outputs": [
    {
     "data": {
      "image/png": "[encoded data removed]",
      "text/plain": [
       "<Figure size 640x480 with 2 Axes>"
      ]
     },
     "metadata": {},
     "output_type": "display_data"
    }
   ],
   "source": [
    "plot_confusion_matrix(gen_cf_matrix, \"Confusion Matrix for General Prompt\" )"
   ]
  },
  {
   "cell_type": "code",
   "execution_count": 50,
   "id": "d6163a39-d09b-42ae-b8ba-610e563ae9f1",
   "metadata": {},
   "outputs": [
    {
     "name": "stdout",
     "output_type": "stream",
     "text": [
      "[0 1 1 1 0 0 1 0 0]\n",
      "Test accuracy:  0.7777777777777778\n",
      "Confusion Matrix : \n",
      " [[4 1]\n",
      " [1 3]]\n"
     ]
    }
   ],
   "source": [
    "#anger model and test\n",
    "lm_log_ang = LogisticRegression().fit(ang_train_feat, ang_train_labels)\n",
    "\n",
    "test_pred = lm_log_gen.predict(ang_test_feat)  \n",
    "print(test_pred)\n",
    "test_pred_round = np.round(test_pred)\n",
    "\n",
    "#print accuracy and confusion matrix\n",
    "print('Test accuracy: ', accuracy_score(ang_test_labels, test_pred_round))\n",
    "print (\"Confusion Matrix : \\n\", confusion_matrix(ang_test_labels, test_pred_round) ) \n",
    "ang_cf_matrix = confusion_matrix(ang_test_labels, test_pred_round)"
   ]
  },
  {
   "cell_type": "code",
   "execution_count": 51,
   "id": "ab305253-0e20-429d-9a5a-877326fba6c1",
   "metadata": {},
   "outputs": [
    {
     "data": {
      "image/png": "[encoded data removed]",
      "text/plain": [
       "<Figure size 640x480 with 2 Axes>"
      ]
     },
     "metadata": {},
     "output_type": "display_data"
    }
   ],
   "source": [
    "cf_plt_2 = plot_confusion_matrix(ang_cf_matrix, title = \"Confusion Matrix for Anger Prompt\") "
   ]
  },
  {
   "cell_type": "code",
   "execution_count": 52,
   "id": "c4ef064e-9d10-4d00-aa78-ecf3c8017b42",
   "metadata": {},
   "outputs": [],
   "source": [
    "cf_plt_2"
   ]
  },
  {
   "cell_type": "markdown",
   "id": "f3628379-972d-492d-bf94-bee669d69a8a",
   "metadata": {},
   "source": [
    "### Hypothesis 2: Parts of Speech "
   ]
  },
  {
   "cell_type": "code",
   "execution_count": 54,
   "id": "51fa62b7",
   "metadata": {},
   "outputs": [],
   "source": [
    "from nltk.tag import pos_tag\n",
    "\n",
    "def count_pos(tokenized_text): \n",
    "    text_as_pos = []\n",
    "    pos_list = pos_tag(tokenized_text)\n",
    "    for entry in pos_list:\n",
    "        pos = entry[1]\n",
    "        text_as_pos.append(pos)\n",
    "    return text_as_pos\n",
    "\n",
    "def count_pos_list(tokenized_text_list):\n",
    "    all_pos = []   \n",
    "    for text in tokenized_text_list:\n",
    "        text_as_pos = []\n",
    "        pos_list = pos_tag(text)\n",
    "        for entry in pos_list:\n",
    "            pos = entry[1]\n",
    "            text_as_pos.append(pos)\n",
    "        \n",
    "        all_pos.append(text_as_pos) \n",
    "    return all_pos\n"
   ]
  },
  {
   "cell_type": "code",
   "execution_count": 55,
   "id": "522ca180",
   "metadata": {},
   "outputs": [],
   "source": [
    "gen_train_pos = unigram_frequency(count_pos_list(gen_train_prompts))\n",
    "gen_test_pos = unigram_frequency(count_pos_list(gen_test_prompts))\n",
    "ang_train_pos = unigram_frequency(count_pos_list(ang_train_prompts))\n",
    "ang_test_pos = unigram_frequency(count_pos_list(ang_test_prompts))"
   ]
  },
  {
   "cell_type": "code",
   "execution_count": 56,
   "id": "802b45bb",
   "metadata": {},
   "outputs": [],
   "source": [
    "gen_train_pos_vocab = unigram_vocab(gen_train_pos)\n",
    "gen_test_pos_vocab = unigram_vocab(gen_test_pos)\n",
    "ang_train_pos_vocab = unigram_vocab(ang_train_pos)\n",
    "ang_test_pos_vocab = unigram_vocab(ang_test_pos)"
   ]
  },
  {
   "cell_type": "code",
   "execution_count": 57,
   "id": "ea2c0992",
   "metadata": {},
   "outputs": [],
   "source": [
    "#Making master list of each vocab list \n",
    "pos_vocabularies = [gen_train_pos_vocab, gen_test_pos_vocab, ang_train_pos_vocab, ang_test_pos_vocab]\n",
    "\n",
    "# Master list to store all vocabularies\n",
    "master_pos_list = []\n",
    "\n",
    "# Loop through each vocabulary and append it to the master_list\n",
    "for pos_vocab in pos_vocabularies:\n",
    "    master_pos_list.extend(pos_vocab)\n",
    "\n",
    "master_pos_list = sorted(list(set(master_pos_list)))"
   ]
  },
  {
   "cell_type": "code",
   "execution_count": 58,
   "id": "ccb54c66",
   "metadata": {},
   "outputs": [],
   "source": [
    "gen_train_pos_feat = unigram_features(gen_train_pos, master_pos_list)\n",
    "gen_test_pos_feat = unigram_features(gen_test_pos, master_pos_list)\n",
    "ang_train_pos_feat = unigram_features(ang_train_pos, master_pos_list)\n",
    "ang_test_pos_feat = unigram_features(ang_test_pos, master_pos_list)"
   ]
  },
  {
   "cell_type": "code",
   "execution_count": 59,
   "id": "8a73d8d7",
   "metadata": {},
   "outputs": [
    {
     "data": {
      "text/plain": [
       "34"
      ]
     },
     "execution_count": 59,
     "metadata": {},
     "output_type": "execute_result"
    }
   ],
   "source": [
    "len(gen_train_pos_feat)\n",
    "len(gen_train_labels)"
   ]
  },
  {
   "cell_type": "code",
   "execution_count": 60,
   "id": "8fce0467",
   "metadata": {},
   "outputs": [
    {
     "name": "stdout",
     "output_type": "stream",
     "text": [
      "[1 1 0 0 1 1 1 1 1]\n",
      "Test accuracy:  0.2222222222222222\n",
      "Confusion Matrix : \n",
      " [[0 5]\n",
      " [2 2]]\n"
     ]
    },
    {
     "name": "stderr",
     "output_type": "stream",
     "text": [
      "/Users/ruthcarter/anaconda3/lib/python3.11/site-packages/sklearn/linear_model/_logistic.py:458: ConvergenceWarning: lbfgs failed to converge (status=1):\n",
      "STOP: TOTAL NO. of ITERATIONS REACHED LIMIT.\n",
      "\n",
      "Increase the number of iterations (max_iter) or scale the data as shown in:\n",
      "    https://scikit-learn.org/stable/modules/preprocessing.html\n",
      "Please also refer to the documentation for alternative solver options:\n",
      "    https://scikit-learn.org/stable/modules/linear_model.html#logistic-regression\n",
      "  n_iter_i = _check_optimize_result(\n"
     ]
    }
   ],
   "source": [
    "#gen model and test\n",
    "\n",
    "#using L2 regularisation\n",
    "lm_log_gen_pos = LogisticRegression().fit(gen_train_pos_feat, gen_train_labels)\n",
    "\n",
    "test_pred = lm_log_gen_pos.predict(gen_test_pos_feat)  \n",
    "print(test_pred)\n",
    "test_pred_round = np.round(test_pred)\n",
    "\n",
    "#print accuracy and confusion matrix\n",
    "print('Test accuracy: ', accuracy_score(gen_test_labels, test_pred_round))\n",
    "print (\"Confusion Matrix : \\n\", confusion_matrix(gen_test_labels, test_pred_round) ) \n",
    "gen_pos_cf = confusion_matrix(gen_test_labels, test_pred_round)"
   ]
  },
  {
   "cell_type": "code",
   "execution_count": 61,
   "id": "d4abbd63-ed8f-4b69-b76b-4d98ac388b61",
   "metadata": {},
   "outputs": [
    {
     "data": {
      "image/png": "[encoded data removed]",
      "text/plain": [
       "<Figure size 640x480 with 2 Axes>"
      ]
     },
     "metadata": {},
     "output_type": "display_data"
    }
   ],
   "source": [
    "plot_confusion_matrix(gen_pos_cf, title = \"Confusion Matrix of Parts of Speech\") "
   ]
  },
  {
   "cell_type": "code",
   "execution_count": 62,
   "id": "84e61406",
   "metadata": {},
   "outputs": [
    {
     "name": "stdout",
     "output_type": "stream",
     "text": [
      "[0 0 1 0 0 0 0 0 0]\n",
      "Test accuracy:  0.6666666666666666\n",
      "Confusion Matrix : \n",
      " [[5 0]\n",
      " [3 1]]\n"
     ]
    },
    {
     "name": "stderr",
     "output_type": "stream",
     "text": [
      "/Users/ruthcarter/anaconda3/lib/python3.11/site-packages/sklearn/linear_model/_logistic.py:458: ConvergenceWarning: lbfgs failed to converge (status=1):\n",
      "STOP: TOTAL NO. of ITERATIONS REACHED LIMIT.\n",
      "\n",
      "Increase the number of iterations (max_iter) or scale the data as shown in:\n",
      "    https://scikit-learn.org/stable/modules/preprocessing.html\n",
      "Please also refer to the documentation for alternative solver options:\n",
      "    https://scikit-learn.org/stable/modules/linear_model.html#logistic-regression\n",
      "  n_iter_i = _check_optimize_result(\n"
     ]
    }
   ],
   "source": [
    "#ang model and test\n",
    "\n",
    "#using L2 regularisation\n",
    "lm_log_ang_pos = LogisticRegression().fit(ang_train_pos_feat, ang_train_labels)\n",
    "\n",
    "test_pred = lm_log_ang_pos.predict(ang_test_pos_feat)  \n",
    "print(test_pred)\n",
    "test_pred_round = np.round(test_pred)\n",
    "\n",
    "#print accuracy and confusion matrix\n",
    "print('Test accuracy: ', accuracy_score(ang_test_labels, test_pred_round))\n",
    "print (\"Confusion Matrix : \\n\", confusion_matrix(ang_test_labels, test_pred_round) )\n",
    "ang_pos_cf = confusion_matrix(ang_test_labels, test_pred_round)"
   ]
  },
  {
   "cell_type": "code",
   "execution_count": 63,
   "id": "aa76e17e-b097-46e4-9696-b96f810b7965",
   "metadata": {},
   "outputs": [
    {
     "data": {
      "image/png": "[encoded data removed]",
      "text/plain": [
       "<Figure size 640x480 with 2 Axes>"
      ]
     },
     "metadata": {},
     "output_type": "display_data"
    }
   ],
   "source": [
    "plot_confusion_matrix(ang_pos_cf, title = \"Confusion Matrix of Parts of Speech (Angry Prompt)\") "
   ]
  },
  {
   "cell_type": "markdown",
   "id": "a0a2a247-5538-4aad-af71-3be155f73736",
   "metadata": {},
   "source": [
    "## Hypothesis 3: Testing for Valence Differences"
   ]
  },
  {
   "cell_type": "code",
   "execution_count": 64,
   "id": "a987938c",
   "metadata": {},
   "outputs": [],
   "source": [
    "with open(\"data/a1/warriner_valence.csv\", \"r\", encoding =\"utf8\") as f:\n",
    "    all_text = f.read() # read in the whole file.\n",
    "\n",
    "# split into each lines, by splitting on the new-line character\n",
    "all_lines = all_text.split('\\n')\n",
    "\n",
    "warriner_dict = {}\n",
    "for this_line in all_lines:\n",
    "    this_word, val_score = this_line.split(',')\n",
    "    warriner_dict[this_word] = val_score\n",
    "\n",
    "def warriner_score (text):\n",
    "\n",
    "    t = text.split()\n",
    "\n",
    "    warriner_list = [0] #instantiate list so there is at least one element in the list \n",
    "\n",
    "    for word in t:\n",
    "        if word in warriner_dict:\n",
    "            score = float(warriner_dict[word]) #convert warriner score to numeric\n",
    "            warriner_list.append(score)\n",
    "\n",
    "    if warriner_list != [0]:\n",
    "        warrinerScore = sum(warriner_list) / (len(warriner_list) - 1) #calculate the warriner score excluding initial zero\n",
    "    else: warrinerScore = 0 #if no words in review are in warriner list, set warrinerScore = 0\n",
    "\n",
    "    return warrinerScore\n",
    "\n",
    "def warriner_score_list(prompts):\n",
    "    ws_list = []\n",
    "    for entry in prompts:\n",
    "        ws = warriner_score(entry)\n",
    "        ws_list.append(ws)\n",
    "    return ws_list"
   ]
  },
  {
   "cell_type": "code",
   "execution_count": 65,
   "id": "a3349f04",
   "metadata": {},
   "outputs": [],
   "source": [
    "fem_gen_valence = warriner_score_list(fem_gen[\"General Prompt\"])\n",
    "fem_ang_valence = warriner_score_list(fem_anger[\"Anger Prompt\"])\n",
    "men_gen_valence = warriner_score_list(men_gen[\"General Prompt\"])\n",
    "men_ang_valence = warriner_score_list(men_anger[\"Anger Prompt\"])"
   ]
  },
  {
   "cell_type": "code",
   "execution_count": 66,
   "id": "687b003a-60bb-49db-870b-ca67a76c7f7e",
   "metadata": {},
   "outputs": [
    {
     "name": "stdout",
     "output_type": "stream",
     "text": [
      "0.09978038915042596 0.08248987510402588\n"
     ]
    }
   ],
   "source": [
    "print(np.var(fem_gen_valence), np.var(men_gen_valence))\n"
   ]
  },
  {
   "cell_type": "code",
   "execution_count": 67,
   "id": "8b7cd0ce-eb67-4cd2-8615-9bbb5f9eb37d",
   "metadata": {},
   "outputs": [],
   "source": [
    "import scipy.stats as stats \n"
   ]
  },
  {
   "cell_type": "code",
   "execution_count": 68,
   "id": "6851eb2a",
   "metadata": {
    "scrolled": true
   },
   "outputs": [
    {
     "data": {
      "text/plain": [
       "TtestResult(statistic=0.39589365401346416, pvalue=0.6942782675626565, df=40.17377098611939)"
      ]
     },
     "execution_count": 68,
     "metadata": {},
     "output_type": "execute_result"
    }
   ],
   "source": [
    "stats.ttest_ind(fem_gen_valence, men_gen_valence, equal_var= False)\n",
    "\n"
   ]
  },
  {
   "cell_type": "code",
   "execution_count": 69,
   "id": "0c03af0f-7ef8-490a-88ce-198117c26564",
   "metadata": {},
   "outputs": [
    {
     "data": {
      "text/plain": [
       "TtestResult(statistic=0.235080865746633, pvalue=0.8153162064595035, df=40.99815436841094)"
      ]
     },
     "execution_count": 69,
     "metadata": {},
     "output_type": "execute_result"
    }
   ],
   "source": [
    "stats.ttest_ind(fem_ang_valence, men_ang_valence, equal_var= False)\n"
   ]
  },
  {
   "cell_type": "code",
   "execution_count": null,
   "id": "7b7c0e23-1412-4c9c-ab5f-16b9923c3c8d",
   "metadata": {},
   "outputs": [],
   "source": []
  },
  {
   "cell_type": "code",
   "execution_count": 70,
   "id": "24432430-6133-4dc5-a50e-b2280b08cd80",
   "metadata": {},
   "outputs": [],
   "source": [
    "from scipy.stats import shapiro\n"
   ]
  },
  {
   "cell_type": "code",
   "execution_count": 71,
   "id": "790ad158-9e77-46b0-a377-21a29c88c492",
   "metadata": {},
   "outputs": [
    {
     "name": "stdout",
     "output_type": "stream",
     "text": [
      "Shapiro-Wilk Test Statistic: 0.9277408719062805\n",
      "p-value: 0.11009607464075089\n"
     ]
    }
   ],
   "source": [
    "statistic, p_value = shapiro(men_gen_valence)\n",
    "\n",
    "print(\"Shapiro-Wilk Test Statistic:\", statistic)\n",
    "print(\"p-value:\", p_value)\n"
   ]
  },
  {
   "cell_type": "markdown",
   "id": "34d7a57b-06cb-4a6d-8fa3-840d87dda52e",
   "metadata": {},
   "source": [
    "### Visualizations: \n",
    "- [x] word cloud\n",
    "- [x] output of matrix\n",
    "- [x] t-test vis\n",
    "\n",
    "**put in results section of paper** "
   ]
  },
  {
   "cell_type": "code",
   "execution_count": 72,
   "id": "aceeb36a-505c-4aeb-a8ee-8bcf3fcd20a0",
   "metadata": {},
   "outputs": [],
   "source": [
    "from wordcloud import WordCloud\n"
   ]
  },
  {
   "cell_type": "code",
   "execution_count": 73,
   "id": "e0e6229a-03fa-4533-9ed1-457c7d8abc26",
   "metadata": {},
   "outputs": [
    {
     "ename": "NameError",
     "evalue": "name 'wordcloud' is not defined",
     "output_type": "error",
     "traceback": [
      "\u001b[0;31m---------------------------------------------------------------------------\u001b[0m",
      "\u001b[0;31mNameError\u001b[0m                                 Traceback (most recent call last)",
      "Cell \u001b[0;32mIn[73], line 10\u001b[0m\n\u001b[1;32m      8\u001b[0m plt_1 \u001b[38;5;241m=\u001b[39m WordCloud(width\u001b[38;5;241m=\u001b[39m\u001b[38;5;241m800\u001b[39m, height\u001b[38;5;241m=\u001b[39m\u001b[38;5;241m400\u001b[39m, background_color\u001b[38;5;241m=\u001b[39m\u001b[38;5;124m'\u001b[39m\u001b[38;5;124mwhite\u001b[39m\u001b[38;5;124m'\u001b[39m)\u001b[38;5;241m.\u001b[39mgenerate(gen_string)\n\u001b[1;32m      9\u001b[0m plt\u001b[38;5;241m.\u001b[39mfigure(figsize\u001b[38;5;241m=\u001b[39m(\u001b[38;5;241m10\u001b[39m, \u001b[38;5;241m5\u001b[39m))\n\u001b[0;32m---> 10\u001b[0m plt\u001b[38;5;241m.\u001b[39mimshow(wordcloud, interpolation\u001b[38;5;241m=\u001b[39m\u001b[38;5;124m'\u001b[39m\u001b[38;5;124mbilinear\u001b[39m\u001b[38;5;124m'\u001b[39m)\n\u001b[1;32m     11\u001b[0m plt\u001b[38;5;241m.\u001b[39maxis(\u001b[38;5;124m'\u001b[39m\u001b[38;5;124moff\u001b[39m\u001b[38;5;124m'\u001b[39m)\n\u001b[1;32m     12\u001b[0m plt\u001b[38;5;241m.\u001b[39mtitle(\u001b[38;5;124m'\u001b[39m\u001b[38;5;124mFemale General Prompt Responses\u001b[39m\u001b[38;5;124m'\u001b[39m)\n",
      "\u001b[0;31mNameError\u001b[0m: name 'wordcloud' is not defined"
     ]
    },
    {
     "data": {
      "text/plain": [
       "<Figure size 1000x500 with 0 Axes>"
      ]
     },
     "metadata": {},
     "output_type": "display_data"
    }
   ],
   "source": [
    "\n",
    "gen_list = []\n",
    "for entry in fem_gen_list: \n",
    "    for word in entry: \n",
    "        gen_list.append(word)\n",
    "    gen_string = ' '.join(gen_list)\n",
    "\n",
    "        \n",
    "plt_1 = WordCloud(width=800, height=400, background_color='white').generate(gen_string)\n",
    "plt.figure(figsize=(10, 5))\n",
    "plt.imshow(wordcloud, interpolation='bilinear')\n",
    "plt.axis('off')\n",
    "plt.title('Female General Prompt Responses')\n",
    "plt.show()"
   ]
  },
  {
   "cell_type": "code",
   "execution_count": null,
   "id": "3a15d5ae-eee9-463e-acb0-2ea6e3821b53",
   "metadata": {},
   "outputs": [],
   "source": [
    "fem_ang_prompts"
   ]
  },
  {
   "cell_type": "code",
   "execution_count": null,
   "id": "6d2a4b74-d2bb-494c-a366-f8ef76a35b22",
   "metadata": {},
   "outputs": [],
   "source": [
    "gen_list = []\n",
    "for entry in fem_ang_list: \n",
    "    for word in entry: \n",
    "        gen_list.append(word)\n",
    "    gen_string = ' '.join(gen_list)\n",
    "\n",
    "        \n",
    "plt_2  = WordCloud(width=800, height=400, background_color='white').generate(gen_string)\n",
    "plt.figure(figsize=(10, 5))\n",
    "plt.imshow(wordcloud, interpolation='bilinear')\n",
    "plt.axis('off')\n",
    "plt.title('Female Angry Prompt Responses')\n",
    "plt.show()"
   ]
  },
  {
   "cell_type": "code",
   "execution_count": null,
   "id": "0503add9-0c48-465c-a421-e82b00fc8b05",
   "metadata": {},
   "outputs": [],
   "source": [
    "\n",
    "fig, axes = plt.subplots(1, 2, figsize=(10, 8))\n",
    "axes[0].imshow(plt_1, interpolation='bilinear')\n",
    "axes[0].set_title('Female General Prompt Responses')\n",
    "axes[0].axis('off')\n",
    "\n",
    "# Plot second WordCloud on the second subplot\n",
    "axes[1].imshow(plt_2, interpolation='bilinear')\n",
    "axes[1].set_title('Female Angry Prompt Responses')\n",
    "axes[1].axis('off')\n"
   ]
  },
  {
   "cell_type": "code",
   "execution_count": null,
   "id": "171df68b-18a8-4756-9177-e2a396283e96",
   "metadata": {},
   "outputs": [],
   "source": [
    "\n",
    "fig, axes = plt.subplots(1, 2, figsize=(30, 15))\n",
    "axes[0].imshow(plt_1, interpolation='bilinear')\n",
    "axes[0].set_title('Female General Prompt Responses', fontsize = 30)\n",
    "axes[0].axis('off')\n",
    "\n",
    "# Plot second WordCloud on the second subplot\n",
    "axes[1].imshow(plt_2, interpolation='bilinear')\n",
    "axes[1].set_title('Female Angry Prompt Responses', fontsize = 30)\n",
    "axes[1].axis('off')\n"
   ]
  },
  {
   "cell_type": "code",
   "execution_count": null,
   "id": "b0d9890d-8497-49a1-923b-1c9257ee2986",
   "metadata": {},
   "outputs": [],
   "source": [
    "gen_list = []\n",
    "for entry in men_gen_list: \n",
    "    for word in entry: \n",
    "        gen_list.append(word)\n",
    "    gen_string = ' '.join(gen_list)\n",
    "\n",
    "        \n",
    "plt_3 = WordCloud(width=800, height=400, background_color='white').generate(gen_string)\n",
    "plt.figure(figsize=(10, 5))\n",
    "plt.imshow(wordcloud, interpolation='bilinear')\n",
    "plt.axis('off')\n",
    "plt.title('Male General Prompt Responses', )\n",
    "plt.show()"
   ]
  },
  {
   "cell_type": "code",
   "execution_count": null,
   "id": "6f734892-cca0-46bd-ba66-ab3fbfa19989",
   "metadata": {},
   "outputs": [],
   "source": [
    "gen_list = []\n",
    "for entry in men_ang_list: \n",
    "    for word in entry: \n",
    "        gen_list.append(word)\n",
    "    gen_string = ' '.join(gen_list)\n",
    "\n",
    "        \n",
    "plt_4 = WordCloud(width=800, height=400, background_color='white').generate(gen_string)\n",
    "plt.figure(figsize=(10, 5))\n",
    "plt.imshow(wordcloud, interpolation='bilinear')\n",
    "plt.axis('off')\n",
    "plt.title('Male Angry Prompt Responses')\n",
    "plt.show()"
   ]
  },
  {
   "cell_type": "code",
   "execution_count": null,
   "id": "0775bc32-adff-4b45-8066-12867e5215bb",
   "metadata": {},
   "outputs": [],
   "source": [
    "\n",
    "fig, axes = plt.subplots(1, 2, figsize=(30, 15))\n",
    "axes[0].imshow(plt_3, interpolation='bilinear')\n",
    "axes[0].set_title('Male General Prompt Responses', fontsize = 30)\n",
    "axes[0].axis('off')\n",
    "\n",
    "# Plot second WordCloud on the second subplot\n",
    "axes[1].imshow(plt_4, interpolation='bilinear')\n",
    "axes[1].set_title('Male Angry Prompt Responses', fontsize = 30)\n",
    "axes[1].axis('off')\n"
   ]
  },
  {
   "cell_type": "code",
   "execution_count": null,
   "id": "abb2907b-bd0f-47b4-af1b-ec973a726211",
   "metadata": {},
   "outputs": [],
   "source": []
  },
  {
   "cell_type": "code",
   "execution_count": null,
   "id": "c92f4d59-6684-48ee-a598-2883d3dfc963",
   "metadata": {},
   "outputs": [],
   "source": []
  },
  {
   "cell_type": "code",
   "execution_count": null,
   "id": "352780b2-a44f-4c87-acfd-6742d35cee4d",
   "metadata": {},
   "outputs": [],
   "source": [
    "# t-test visualization \n",
    "fem_gen_mean = np.mean(fem_gen_valence)\n",
    "men_gen_mean = np.mean(men_gen_valence)\n",
    "\n",
    "\n",
    "kde1 = sns.kdeplot(data=fem_gen_valence, label='Female', color='forestgreen')\n",
    "plt.axvline(x=fem_gen_mean, color='forestgreen', linestyle='--')  \n",
    "\n",
    "\n",
    "kde2 = sns.kdeplot(data=men_gen_valence, label='Male', color='#A0522D')\n",
    "plt.axvline(x=men_gen_mean, color='#A0522D', linestyle='--') \n",
    "\n",
    "# Set plot title and labels\n",
    "plt.title('Distribution of General Valence Scores')\n",
    "plt.xlabel('Valence')\n",
    "plt.ylabel('Density')\n",
    "\n",
    "# Add legend\n",
    "plt.legend()\n",
    "\n",
    "# Show plot\n",
    "plt.show()\n",
    "\n",
    "#plt.savefig('gen_valence_dist.png')\n",
    "\n"
   ]
  },
  {
   "cell_type": "code",
   "execution_count": null,
   "id": "ee619ed8-d876-44e8-8fb0-46824464d089",
   "metadata": {},
   "outputs": [],
   "source": [
    "fem_ang_mean = np.mean(fem_ang_valence)\n",
    "men_ang_mean = np.mean(men_ang_valence)\n",
    "\n",
    "\n",
    "kde3 = sns.kdeplot(data=fem_ang_valence, label='Female', color='forestgreen')\n",
    "plt.axvline(x=fem_ang_mean, color='forestgreen', linestyle='--')  \n",
    "\n",
    "\n",
    "kde4 = sns.kdeplot(data=men_ang_valence, label='Male', color='#A0522D')\n",
    "plt.axvline(x=men_ang_mean, color='#A0522D', linestyle='--') \n",
    "\n",
    "# Set plot title and labels\n",
    "plt.title('Distribution of Anger Valence Scores')\n",
    "plt.xlabel('Valence')\n",
    "plt.ylabel('Density')\n",
    "\n",
    "# Add legend\n",
    "plt.legend()\n",
    "\n",
    "# Show plot\n",
    "plt.show()\n",
    "\n",
    "##plt.savefig('gen_valence_dist.png')\n"
   ]
  },
  {
   "cell_type": "code",
   "execution_count": null,
   "id": "35e06b47-7e09-457d-bf30-852bd83df62c",
   "metadata": {},
   "outputs": [],
   "source": [
    "fig, axes = plt.subplots(1, 2, figsize=(10, 5))\n",
    "\n",
    "sns.kdeplot(data=fem_gen_valence, label='Female', color='forestgreen', ax = axes[0])\n",
    "sns.kdeplot(data=men_gen_valence, label='Male', color='#A0522D', ax = axes[0])\n",
    "axes[0].axvline(x=fem_gen_mean, color='forestgreen', linestyle='--')  \n",
    "axes[0].axvline(x=men_gen_mean, color='#A0522D', linestyle='--') \n",
    "\n",
    "axes[0].set_title('General Valence Scores', fontsize = 15)\n",
    "axes[0].legend()\n",
    "\n",
    "\n",
    "sns.kdeplot(data=fem_ang_valence, label='Female', color='forestgreen', ax = axes[1])\n",
    "sns.kdeplot(data=men_ang_valence, label='Male', color='#A0522D',ax = axes[1] )\n",
    "plt.axvline(x=fem_ang_mean, color='forestgreen', linestyle='--')\n",
    "plt.axvline(x=men_ang_mean, color='#A0522D', linestyle='--')\n",
    "axes[1].set_title('Anger Valence Scores', fontsize = 15)\n",
    "axes[1].set_ylabel('')\n",
    "\n",
    "axes[1].legend()\n",
    "fig.supxlabel('Warriner Valence')\n",
    "\n",
    "plt.tight_layout()"
   ]
  }
 ],
 "metadata": {
  "kernelspec": {
   "display_name": "Python 3 (ipykernel)",
   "language": "python",
   "name": "python3"
  },
  "language_info": {
   "codemirror_mode": {
    "name": "ipython",
    "version": 3
   },
   "file_extension": ".py",
   "mimetype": "text/x-python",
   "name": "python",
   "nbconvert_exporter": "python",
   "pygments_lexer": "ipython3",
   "version": "3.11.8"
  }
 },
 "nbformat": 4,
 "nbformat_minor": 5
}
